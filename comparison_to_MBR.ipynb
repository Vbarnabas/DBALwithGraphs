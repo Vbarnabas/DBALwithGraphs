{
 "nbformat": 4,
 "nbformat_minor": 0,
 "metadata": {
  "colab": {
   "name": "comparison_to_MBR.ipynb",
   "provenance": [],
   "collapsed_sections": [],
   "toc_visible": true
  },
  "kernelspec": {
   "name": "python3",
   "language": "python",
   "display_name": "Python 3 (ipykernel)"
  },
  "accelerator": "GPU",
  "widgets": {
   "application/vnd.jupyter.widget-state+json": {
    "7efb1b31fe3d429facaebbf8d9f70cea": {
     "model_module": "@jupyter-widgets/controls",
     "model_name": "HBoxModel",
     "state": {
      "_view_name": "HBoxView",
      "_dom_classes": [],
      "_model_name": "HBoxModel",
      "_view_module": "@jupyter-widgets/controls",
      "_model_module_version": "1.5.0",
      "_view_count": null,
      "_view_module_version": "1.5.0",
      "box_style": "",
      "layout": "IPY_MODEL_63f9e8f5c22c454fa8df54e5da6ebc45",
      "_model_module": "@jupyter-widgets/controls",
      "children": [
       "IPY_MODEL_503ba1cd7e1c40ea98f8cdbcef1d3b76",
       "IPY_MODEL_2c1da7bd8b524666ae0086c82095e214"
      ]
     }
    },
    "63f9e8f5c22c454fa8df54e5da6ebc45": {
     "model_module": "@jupyter-widgets/base",
     "model_name": "LayoutModel",
     "state": {
      "_view_name": "LayoutView",
      "grid_template_rows": null,
      "right": null,
      "justify_content": null,
      "_view_module": "@jupyter-widgets/base",
      "overflow": null,
      "_model_module_version": "1.2.0",
      "_view_count": null,
      "flex_flow": null,
      "width": null,
      "min_width": null,
      "border": null,
      "align_items": null,
      "bottom": null,
      "_model_module": "@jupyter-widgets/base",
      "top": null,
      "grid_column": null,
      "overflow_y": null,
      "overflow_x": null,
      "grid_auto_flow": null,
      "grid_area": null,
      "grid_template_columns": null,
      "flex": null,
      "_model_name": "LayoutModel",
      "justify_items": null,
      "grid_row": null,
      "max_height": null,
      "align_content": null,
      "visibility": null,
      "align_self": null,
      "height": null,
      "min_height": null,
      "padding": null,
      "grid_auto_rows": null,
      "grid_gap": null,
      "max_width": null,
      "order": null,
      "_view_module_version": "1.2.0",
      "grid_template_areas": null,
      "object_position": null,
      "object_fit": null,
      "grid_auto_columns": null,
      "margin": null,
      "display": null,
      "left": null
     }
    },
    "503ba1cd7e1c40ea98f8cdbcef1d3b76": {
     "model_module": "@jupyter-widgets/controls",
     "model_name": "FloatProgressModel",
     "state": {
      "_view_name": "ProgressView",
      "style": "IPY_MODEL_d7955a1118834a6e8a5e951a3613dbd2",
      "_dom_classes": [],
      "description": "",
      "_model_name": "FloatProgressModel",
      "bar_style": "success",
      "max": 1,
      "_view_module": "@jupyter-widgets/controls",
      "_model_module_version": "1.5.0",
      "value": 1,
      "_view_count": null,
      "_view_module_version": "1.5.0",
      "orientation": "horizontal",
      "min": 0,
      "description_tooltip": null,
      "_model_module": "@jupyter-widgets/controls",
      "layout": "IPY_MODEL_514c468eac06446e86ca9505fdeb5592"
     }
    },
    "2c1da7bd8b524666ae0086c82095e214": {
     "model_module": "@jupyter-widgets/controls",
     "model_name": "HTMLModel",
     "state": {
      "_view_name": "HTMLView",
      "style": "IPY_MODEL_b02fa94725c542c7b508c7e4e2380901",
      "_dom_classes": [],
      "description": "",
      "_model_name": "HTMLModel",
      "placeholder": "​",
      "_view_module": "@jupyter-widgets/controls",
      "_model_module_version": "1.5.0",
      "value": " 9920512/? [00:01&lt;00:00, 7938673.30it/s]",
      "_view_count": null,
      "_view_module_version": "1.5.0",
      "description_tooltip": null,
      "_model_module": "@jupyter-widgets/controls",
      "layout": "IPY_MODEL_e62b575c26c342a783ce2244645bf8c8"
     }
    },
    "d7955a1118834a6e8a5e951a3613dbd2": {
     "model_module": "@jupyter-widgets/controls",
     "model_name": "ProgressStyleModel",
     "state": {
      "_view_name": "StyleView",
      "_model_name": "ProgressStyleModel",
      "description_width": "initial",
      "_view_module": "@jupyter-widgets/base",
      "_model_module_version": "1.5.0",
      "_view_count": null,
      "_view_module_version": "1.2.0",
      "bar_color": null,
      "_model_module": "@jupyter-widgets/controls"
     }
    },
    "514c468eac06446e86ca9505fdeb5592": {
     "model_module": "@jupyter-widgets/base",
     "model_name": "LayoutModel",
     "state": {
      "_view_name": "LayoutView",
      "grid_template_rows": null,
      "right": null,
      "justify_content": null,
      "_view_module": "@jupyter-widgets/base",
      "overflow": null,
      "_model_module_version": "1.2.0",
      "_view_count": null,
      "flex_flow": null,
      "width": null,
      "min_width": null,
      "border": null,
      "align_items": null,
      "bottom": null,
      "_model_module": "@jupyter-widgets/base",
      "top": null,
      "grid_column": null,
      "overflow_y": null,
      "overflow_x": null,
      "grid_auto_flow": null,
      "grid_area": null,
      "grid_template_columns": null,
      "flex": null,
      "_model_name": "LayoutModel",
      "justify_items": null,
      "grid_row": null,
      "max_height": null,
      "align_content": null,
      "visibility": null,
      "align_self": null,
      "height": null,
      "min_height": null,
      "padding": null,
      "grid_auto_rows": null,
      "grid_gap": null,
      "max_width": null,
      "order": null,
      "_view_module_version": "1.2.0",
      "grid_template_areas": null,
      "object_position": null,
      "object_fit": null,
      "grid_auto_columns": null,
      "margin": null,
      "display": null,
      "left": null
     }
    },
    "b02fa94725c542c7b508c7e4e2380901": {
     "model_module": "@jupyter-widgets/controls",
     "model_name": "DescriptionStyleModel",
     "state": {
      "_view_name": "StyleView",
      "_model_name": "DescriptionStyleModel",
      "description_width": "",
      "_view_module": "@jupyter-widgets/base",
      "_model_module_version": "1.5.0",
      "_view_count": null,
      "_view_module_version": "1.2.0",
      "_model_module": "@jupyter-widgets/controls"
     }
    },
    "e62b575c26c342a783ce2244645bf8c8": {
     "model_module": "@jupyter-widgets/base",
     "model_name": "LayoutModel",
     "state": {
      "_view_name": "LayoutView",
      "grid_template_rows": null,
      "right": null,
      "justify_content": null,
      "_view_module": "@jupyter-widgets/base",
      "overflow": null,
      "_model_module_version": "1.2.0",
      "_view_count": null,
      "flex_flow": null,
      "width": null,
      "min_width": null,
      "border": null,
      "align_items": null,
      "bottom": null,
      "_model_module": "@jupyter-widgets/base",
      "top": null,
      "grid_column": null,
      "overflow_y": null,
      "overflow_x": null,
      "grid_auto_flow": null,
      "grid_area": null,
      "grid_template_columns": null,
      "flex": null,
      "_model_name": "LayoutModel",
      "justify_items": null,
      "grid_row": null,
      "max_height": null,
      "align_content": null,
      "visibility": null,
      "align_self": null,
      "height": null,
      "min_height": null,
      "padding": null,
      "grid_auto_rows": null,
      "grid_gap": null,
      "max_width": null,
      "order": null,
      "_view_module_version": "1.2.0",
      "grid_template_areas": null,
      "object_position": null,
      "object_fit": null,
      "grid_auto_columns": null,
      "margin": null,
      "display": null,
      "left": null
     }
    },
    "3901cdd8c2d74856b81a192552645bb1": {
     "model_module": "@jupyter-widgets/controls",
     "model_name": "HBoxModel",
     "state": {
      "_view_name": "HBoxView",
      "_dom_classes": [],
      "_model_name": "HBoxModel",
      "_view_module": "@jupyter-widgets/controls",
      "_model_module_version": "1.5.0",
      "_view_count": null,
      "_view_module_version": "1.5.0",
      "box_style": "",
      "layout": "IPY_MODEL_b1dc88a5e47944d2943f81a4745f0d91",
      "_model_module": "@jupyter-widgets/controls",
      "children": [
       "IPY_MODEL_09b628aab8fe48b3baf8032832a2b2d7",
       "IPY_MODEL_cbc0462095eb477fb4552e66c816ceb2"
      ]
     }
    },
    "b1dc88a5e47944d2943f81a4745f0d91": {
     "model_module": "@jupyter-widgets/base",
     "model_name": "LayoutModel",
     "state": {
      "_view_name": "LayoutView",
      "grid_template_rows": null,
      "right": null,
      "justify_content": null,
      "_view_module": "@jupyter-widgets/base",
      "overflow": null,
      "_model_module_version": "1.2.0",
      "_view_count": null,
      "flex_flow": null,
      "width": null,
      "min_width": null,
      "border": null,
      "align_items": null,
      "bottom": null,
      "_model_module": "@jupyter-widgets/base",
      "top": null,
      "grid_column": null,
      "overflow_y": null,
      "overflow_x": null,
      "grid_auto_flow": null,
      "grid_area": null,
      "grid_template_columns": null,
      "flex": null,
      "_model_name": "LayoutModel",
      "justify_items": null,
      "grid_row": null,
      "max_height": null,
      "align_content": null,
      "visibility": null,
      "align_self": null,
      "height": null,
      "min_height": null,
      "padding": null,
      "grid_auto_rows": null,
      "grid_gap": null,
      "max_width": null,
      "order": null,
      "_view_module_version": "1.2.0",
      "grid_template_areas": null,
      "object_position": null,
      "object_fit": null,
      "grid_auto_columns": null,
      "margin": null,
      "display": null,
      "left": null
     }
    },
    "09b628aab8fe48b3baf8032832a2b2d7": {
     "model_module": "@jupyter-widgets/controls",
     "model_name": "FloatProgressModel",
     "state": {
      "_view_name": "ProgressView",
      "style": "IPY_MODEL_2afc728871be4afa8da5dbda079dfb87",
      "_dom_classes": [],
      "description": "",
      "_model_name": "FloatProgressModel",
      "bar_style": "success",
      "max": 1,
      "_view_module": "@jupyter-widgets/controls",
      "_model_module_version": "1.5.0",
      "value": 1,
      "_view_count": null,
      "_view_module_version": "1.5.0",
      "orientation": "horizontal",
      "min": 0,
      "description_tooltip": null,
      "_model_module": "@jupyter-widgets/controls",
      "layout": "IPY_MODEL_d030d33a5d1b4991bafb4ca97df381ba"
     }
    },
    "cbc0462095eb477fb4552e66c816ceb2": {
     "model_module": "@jupyter-widgets/controls",
     "model_name": "HTMLModel",
     "state": {
      "_view_name": "HTMLView",
      "style": "IPY_MODEL_b8f32f5f1ada4323a49e7229790b427d",
      "_dom_classes": [],
      "description": "",
      "_model_name": "HTMLModel",
      "placeholder": "​",
      "_view_module": "@jupyter-widgets/controls",
      "_model_module_version": "1.5.0",
      "value": " 32768/? [00:02&lt;00:00, 14176.27it/s]",
      "_view_count": null,
      "_view_module_version": "1.5.0",
      "description_tooltip": null,
      "_model_module": "@jupyter-widgets/controls",
      "layout": "IPY_MODEL_b4ec75c8fc074011964a4b8e4ca3e9b4"
     }
    },
    "2afc728871be4afa8da5dbda079dfb87": {
     "model_module": "@jupyter-widgets/controls",
     "model_name": "ProgressStyleModel",
     "state": {
      "_view_name": "StyleView",
      "_model_name": "ProgressStyleModel",
      "description_width": "initial",
      "_view_module": "@jupyter-widgets/base",
      "_model_module_version": "1.5.0",
      "_view_count": null,
      "_view_module_version": "1.2.0",
      "bar_color": null,
      "_model_module": "@jupyter-widgets/controls"
     }
    },
    "d030d33a5d1b4991bafb4ca97df381ba": {
     "model_module": "@jupyter-widgets/base",
     "model_name": "LayoutModel",
     "state": {
      "_view_name": "LayoutView",
      "grid_template_rows": null,
      "right": null,
      "justify_content": null,
      "_view_module": "@jupyter-widgets/base",
      "overflow": null,
      "_model_module_version": "1.2.0",
      "_view_count": null,
      "flex_flow": null,
      "width": null,
      "min_width": null,
      "border": null,
      "align_items": null,
      "bottom": null,
      "_model_module": "@jupyter-widgets/base",
      "top": null,
      "grid_column": null,
      "overflow_y": null,
      "overflow_x": null,
      "grid_auto_flow": null,
      "grid_area": null,
      "grid_template_columns": null,
      "flex": null,
      "_model_name": "LayoutModel",
      "justify_items": null,
      "grid_row": null,
      "max_height": null,
      "align_content": null,
      "visibility": null,
      "align_self": null,
      "height": null,
      "min_height": null,
      "padding": null,
      "grid_auto_rows": null,
      "grid_gap": null,
      "max_width": null,
      "order": null,
      "_view_module_version": "1.2.0",
      "grid_template_areas": null,
      "object_position": null,
      "object_fit": null,
      "grid_auto_columns": null,
      "margin": null,
      "display": null,
      "left": null
     }
    },
    "b8f32f5f1ada4323a49e7229790b427d": {
     "model_module": "@jupyter-widgets/controls",
     "model_name": "DescriptionStyleModel",
     "state": {
      "_view_name": "StyleView",
      "_model_name": "DescriptionStyleModel",
      "description_width": "",
      "_view_module": "@jupyter-widgets/base",
      "_model_module_version": "1.5.0",
      "_view_count": null,
      "_view_module_version": "1.2.0",
      "_model_module": "@jupyter-widgets/controls"
     }
    },
    "b4ec75c8fc074011964a4b8e4ca3e9b4": {
     "model_module": "@jupyter-widgets/base",
     "model_name": "LayoutModel",
     "state": {
      "_view_name": "LayoutView",
      "grid_template_rows": null,
      "right": null,
      "justify_content": null,
      "_view_module": "@jupyter-widgets/base",
      "overflow": null,
      "_model_module_version": "1.2.0",
      "_view_count": null,
      "flex_flow": null,
      "width": null,
      "min_width": null,
      "border": null,
      "align_items": null,
      "bottom": null,
      "_model_module": "@jupyter-widgets/base",
      "top": null,
      "grid_column": null,
      "overflow_y": null,
      "overflow_x": null,
      "grid_auto_flow": null,
      "grid_area": null,
      "grid_template_columns": null,
      "flex": null,
      "_model_name": "LayoutModel",
      "justify_items": null,
      "grid_row": null,
      "max_height": null,
      "align_content": null,
      "visibility": null,
      "align_self": null,
      "height": null,
      "min_height": null,
      "padding": null,
      "grid_auto_rows": null,
      "grid_gap": null,
      "max_width": null,
      "order": null,
      "_view_module_version": "1.2.0",
      "grid_template_areas": null,
      "object_position": null,
      "object_fit": null,
      "grid_auto_columns": null,
      "margin": null,
      "display": null,
      "left": null
     }
    },
    "f8878bc395354dbd925cdc95cbeff704": {
     "model_module": "@jupyter-widgets/controls",
     "model_name": "HBoxModel",
     "state": {
      "_view_name": "HBoxView",
      "_dom_classes": [],
      "_model_name": "HBoxModel",
      "_view_module": "@jupyter-widgets/controls",
      "_model_module_version": "1.5.0",
      "_view_count": null,
      "_view_module_version": "1.5.0",
      "box_style": "",
      "layout": "IPY_MODEL_17a23def78c0492abf3225cc6468f836",
      "_model_module": "@jupyter-widgets/controls",
      "children": [
       "IPY_MODEL_014c489e79034e9fb8d12dd2264c312c",
       "IPY_MODEL_2e7b84b61dad4cb29cab7b3359866e26"
      ]
     }
    },
    "17a23def78c0492abf3225cc6468f836": {
     "model_module": "@jupyter-widgets/base",
     "model_name": "LayoutModel",
     "state": {
      "_view_name": "LayoutView",
      "grid_template_rows": null,
      "right": null,
      "justify_content": null,
      "_view_module": "@jupyter-widgets/base",
      "overflow": null,
      "_model_module_version": "1.2.0",
      "_view_count": null,
      "flex_flow": null,
      "width": null,
      "min_width": null,
      "border": null,
      "align_items": null,
      "bottom": null,
      "_model_module": "@jupyter-widgets/base",
      "top": null,
      "grid_column": null,
      "overflow_y": null,
      "overflow_x": null,
      "grid_auto_flow": null,
      "grid_area": null,
      "grid_template_columns": null,
      "flex": null,
      "_model_name": "LayoutModel",
      "justify_items": null,
      "grid_row": null,
      "max_height": null,
      "align_content": null,
      "visibility": null,
      "align_self": null,
      "height": null,
      "min_height": null,
      "padding": null,
      "grid_auto_rows": null,
      "grid_gap": null,
      "max_width": null,
      "order": null,
      "_view_module_version": "1.2.0",
      "grid_template_areas": null,
      "object_position": null,
      "object_fit": null,
      "grid_auto_columns": null,
      "margin": null,
      "display": null,
      "left": null
     }
    },
    "014c489e79034e9fb8d12dd2264c312c": {
     "model_module": "@jupyter-widgets/controls",
     "model_name": "FloatProgressModel",
     "state": {
      "_view_name": "ProgressView",
      "style": "IPY_MODEL_002dcd76137a4c0085b9e88b8d21232d",
      "_dom_classes": [],
      "description": "",
      "_model_name": "FloatProgressModel",
      "bar_style": "success",
      "max": 1,
      "_view_module": "@jupyter-widgets/controls",
      "_model_module_version": "1.5.0",
      "value": 1,
      "_view_count": null,
      "_view_module_version": "1.5.0",
      "orientation": "horizontal",
      "min": 0,
      "description_tooltip": null,
      "_model_module": "@jupyter-widgets/controls",
      "layout": "IPY_MODEL_0308b63c7fc548dfb1df39b094da76bf"
     }
    },
    "2e7b84b61dad4cb29cab7b3359866e26": {
     "model_module": "@jupyter-widgets/controls",
     "model_name": "HTMLModel",
     "state": {
      "_view_name": "HTMLView",
      "style": "IPY_MODEL_c5c13b22e3304125b2b3ed88ffc042bf",
      "_dom_classes": [],
      "description": "",
      "_model_name": "HTMLModel",
      "placeholder": "​",
      "_view_module": "@jupyter-widgets/controls",
      "_model_module_version": "1.5.0",
      "value": " 1654784/? [00:01&lt;00:00, 1140540.37it/s]",
      "_view_count": null,
      "_view_module_version": "1.5.0",
      "description_tooltip": null,
      "_model_module": "@jupyter-widgets/controls",
      "layout": "IPY_MODEL_630d6c0992014d6a8c5b9219c07cafaf"
     }
    },
    "002dcd76137a4c0085b9e88b8d21232d": {
     "model_module": "@jupyter-widgets/controls",
     "model_name": "ProgressStyleModel",
     "state": {
      "_view_name": "StyleView",
      "_model_name": "ProgressStyleModel",
      "description_width": "initial",
      "_view_module": "@jupyter-widgets/base",
      "_model_module_version": "1.5.0",
      "_view_count": null,
      "_view_module_version": "1.2.0",
      "bar_color": null,
      "_model_module": "@jupyter-widgets/controls"
     }
    },
    "0308b63c7fc548dfb1df39b094da76bf": {
     "model_module": "@jupyter-widgets/base",
     "model_name": "LayoutModel",
     "state": {
      "_view_name": "LayoutView",
      "grid_template_rows": null,
      "right": null,
      "justify_content": null,
      "_view_module": "@jupyter-widgets/base",
      "overflow": null,
      "_model_module_version": "1.2.0",
      "_view_count": null,
      "flex_flow": null,
      "width": null,
      "min_width": null,
      "border": null,
      "align_items": null,
      "bottom": null,
      "_model_module": "@jupyter-widgets/base",
      "top": null,
      "grid_column": null,
      "overflow_y": null,
      "overflow_x": null,
      "grid_auto_flow": null,
      "grid_area": null,
      "grid_template_columns": null,
      "flex": null,
      "_model_name": "LayoutModel",
      "justify_items": null,
      "grid_row": null,
      "max_height": null,
      "align_content": null,
      "visibility": null,
      "align_self": null,
      "height": null,
      "min_height": null,
      "padding": null,
      "grid_auto_rows": null,
      "grid_gap": null,
      "max_width": null,
      "order": null,
      "_view_module_version": "1.2.0",
      "grid_template_areas": null,
      "object_position": null,
      "object_fit": null,
      "grid_auto_columns": null,
      "margin": null,
      "display": null,
      "left": null
     }
    },
    "c5c13b22e3304125b2b3ed88ffc042bf": {
     "model_module": "@jupyter-widgets/controls",
     "model_name": "DescriptionStyleModel",
     "state": {
      "_view_name": "StyleView",
      "_model_name": "DescriptionStyleModel",
      "description_width": "",
      "_view_module": "@jupyter-widgets/base",
      "_model_module_version": "1.5.0",
      "_view_count": null,
      "_view_module_version": "1.2.0",
      "_model_module": "@jupyter-widgets/controls"
     }
    },
    "630d6c0992014d6a8c5b9219c07cafaf": {
     "model_module": "@jupyter-widgets/base",
     "model_name": "LayoutModel",
     "state": {
      "_view_name": "LayoutView",
      "grid_template_rows": null,
      "right": null,
      "justify_content": null,
      "_view_module": "@jupyter-widgets/base",
      "overflow": null,
      "_model_module_version": "1.2.0",
      "_view_count": null,
      "flex_flow": null,
      "width": null,
      "min_width": null,
      "border": null,
      "align_items": null,
      "bottom": null,
      "_model_module": "@jupyter-widgets/base",
      "top": null,
      "grid_column": null,
      "overflow_y": null,
      "overflow_x": null,
      "grid_auto_flow": null,
      "grid_area": null,
      "grid_template_columns": null,
      "flex": null,
      "_model_name": "LayoutModel",
      "justify_items": null,
      "grid_row": null,
      "max_height": null,
      "align_content": null,
      "visibility": null,
      "align_self": null,
      "height": null,
      "min_height": null,
      "padding": null,
      "grid_auto_rows": null,
      "grid_gap": null,
      "max_width": null,
      "order": null,
      "_view_module_version": "1.2.0",
      "grid_template_areas": null,
      "object_position": null,
      "object_fit": null,
      "grid_auto_columns": null,
      "margin": null,
      "display": null,
      "left": null
     }
    },
    "024c5025523d41c8a15ef2abff899f7f": {
     "model_module": "@jupyter-widgets/controls",
     "model_name": "HBoxModel",
     "state": {
      "_view_name": "HBoxView",
      "_dom_classes": [],
      "_model_name": "HBoxModel",
      "_view_module": "@jupyter-widgets/controls",
      "_model_module_version": "1.5.0",
      "_view_count": null,
      "_view_module_version": "1.5.0",
      "box_style": "",
      "layout": "IPY_MODEL_588172b0d77845208662681dd45ba376",
      "_model_module": "@jupyter-widgets/controls",
      "children": [
       "IPY_MODEL_89e410d0f3d947eca2279fa79206595a",
       "IPY_MODEL_02936b7b61254a01822833517cea2f13"
      ]
     }
    },
    "588172b0d77845208662681dd45ba376": {
     "model_module": "@jupyter-widgets/base",
     "model_name": "LayoutModel",
     "state": {
      "_view_name": "LayoutView",
      "grid_template_rows": null,
      "right": null,
      "justify_content": null,
      "_view_module": "@jupyter-widgets/base",
      "overflow": null,
      "_model_module_version": "1.2.0",
      "_view_count": null,
      "flex_flow": null,
      "width": null,
      "min_width": null,
      "border": null,
      "align_items": null,
      "bottom": null,
      "_model_module": "@jupyter-widgets/base",
      "top": null,
      "grid_column": null,
      "overflow_y": null,
      "overflow_x": null,
      "grid_auto_flow": null,
      "grid_area": null,
      "grid_template_columns": null,
      "flex": null,
      "_model_name": "LayoutModel",
      "justify_items": null,
      "grid_row": null,
      "max_height": null,
      "align_content": null,
      "visibility": null,
      "align_self": null,
      "height": null,
      "min_height": null,
      "padding": null,
      "grid_auto_rows": null,
      "grid_gap": null,
      "max_width": null,
      "order": null,
      "_view_module_version": "1.2.0",
      "grid_template_areas": null,
      "object_position": null,
      "object_fit": null,
      "grid_auto_columns": null,
      "margin": null,
      "display": null,
      "left": null
     }
    },
    "89e410d0f3d947eca2279fa79206595a": {
     "model_module": "@jupyter-widgets/controls",
     "model_name": "FloatProgressModel",
     "state": {
      "_view_name": "ProgressView",
      "style": "IPY_MODEL_ac1065531699495e9cc0f629bd3c1435",
      "_dom_classes": [],
      "description": "",
      "_model_name": "FloatProgressModel",
      "bar_style": "success",
      "max": 1,
      "_view_module": "@jupyter-widgets/controls",
      "_model_module_version": "1.5.0",
      "value": 1,
      "_view_count": null,
      "_view_module_version": "1.5.0",
      "orientation": "horizontal",
      "min": 0,
      "description_tooltip": null,
      "_model_module": "@jupyter-widgets/controls",
      "layout": "IPY_MODEL_73d29da2131c4fd7a21e94d162322048"
     }
    },
    "02936b7b61254a01822833517cea2f13": {
     "model_module": "@jupyter-widgets/controls",
     "model_name": "HTMLModel",
     "state": {
      "_view_name": "HTMLView",
      "style": "IPY_MODEL_0df162b91a7f41aea412b5a2d2164ba4",
      "_dom_classes": [],
      "description": "",
      "_model_name": "HTMLModel",
      "placeholder": "​",
      "_view_module": "@jupyter-widgets/controls",
      "_model_module_version": "1.5.0",
      "value": " 8192/? [00:00&lt;00:00, 13489.67it/s]",
      "_view_count": null,
      "_view_module_version": "1.5.0",
      "description_tooltip": null,
      "_model_module": "@jupyter-widgets/controls",
      "layout": "IPY_MODEL_69d106f9f09045289860181456c18235"
     }
    },
    "ac1065531699495e9cc0f629bd3c1435": {
     "model_module": "@jupyter-widgets/controls",
     "model_name": "ProgressStyleModel",
     "state": {
      "_view_name": "StyleView",
      "_model_name": "ProgressStyleModel",
      "description_width": "initial",
      "_view_module": "@jupyter-widgets/base",
      "_model_module_version": "1.5.0",
      "_view_count": null,
      "_view_module_version": "1.2.0",
      "bar_color": null,
      "_model_module": "@jupyter-widgets/controls"
     }
    },
    "73d29da2131c4fd7a21e94d162322048": {
     "model_module": "@jupyter-widgets/base",
     "model_name": "LayoutModel",
     "state": {
      "_view_name": "LayoutView",
      "grid_template_rows": null,
      "right": null,
      "justify_content": null,
      "_view_module": "@jupyter-widgets/base",
      "overflow": null,
      "_model_module_version": "1.2.0",
      "_view_count": null,
      "flex_flow": null,
      "width": null,
      "min_width": null,
      "border": null,
      "align_items": null,
      "bottom": null,
      "_model_module": "@jupyter-widgets/base",
      "top": null,
      "grid_column": null,
      "overflow_y": null,
      "overflow_x": null,
      "grid_auto_flow": null,
      "grid_area": null,
      "grid_template_columns": null,
      "flex": null,
      "_model_name": "LayoutModel",
      "justify_items": null,
      "grid_row": null,
      "max_height": null,
      "align_content": null,
      "visibility": null,
      "align_self": null,
      "height": null,
      "min_height": null,
      "padding": null,
      "grid_auto_rows": null,
      "grid_gap": null,
      "max_width": null,
      "order": null,
      "_view_module_version": "1.2.0",
      "grid_template_areas": null,
      "object_position": null,
      "object_fit": null,
      "grid_auto_columns": null,
      "margin": null,
      "display": null,
      "left": null
     }
    },
    "0df162b91a7f41aea412b5a2d2164ba4": {
     "model_module": "@jupyter-widgets/controls",
     "model_name": "DescriptionStyleModel",
     "state": {
      "_view_name": "StyleView",
      "_model_name": "DescriptionStyleModel",
      "description_width": "",
      "_view_module": "@jupyter-widgets/base",
      "_model_module_version": "1.5.0",
      "_view_count": null,
      "_view_module_version": "1.2.0",
      "_model_module": "@jupyter-widgets/controls"
     }
    },
    "69d106f9f09045289860181456c18235": {
     "model_module": "@jupyter-widgets/base",
     "model_name": "LayoutModel",
     "state": {
      "_view_name": "LayoutView",
      "grid_template_rows": null,
      "right": null,
      "justify_content": null,
      "_view_module": "@jupyter-widgets/base",
      "overflow": null,
      "_model_module_version": "1.2.0",
      "_view_count": null,
      "flex_flow": null,
      "width": null,
      "min_width": null,
      "border": null,
      "align_items": null,
      "bottom": null,
      "_model_module": "@jupyter-widgets/base",
      "top": null,
      "grid_column": null,
      "overflow_y": null,
      "overflow_x": null,
      "grid_auto_flow": null,
      "grid_area": null,
      "grid_template_columns": null,
      "flex": null,
      "_model_name": "LayoutModel",
      "justify_items": null,
      "grid_row": null,
      "max_height": null,
      "align_content": null,
      "visibility": null,
      "align_self": null,
      "height": null,
      "min_height": null,
      "padding": null,
      "grid_auto_rows": null,
      "grid_gap": null,
      "max_width": null,
      "order": null,
      "_view_module_version": "1.2.0",
      "grid_template_areas": null,
      "object_position": null,
      "object_fit": null,
      "grid_auto_columns": null,
      "margin": null,
      "display": null,
      "left": null
     }
    }
   }
  }
 },
 "cells": [
  {
   "cell_type": "markdown",
   "metadata": {
    "id": "XC1hpdSWp3hN"
   },
   "source": [
    "## 0.0 Check Available GPU/ CPU"
   ]
  },
  {
   "cell_type": "code",
   "metadata": {
    "colab": {
     "base_uri": "https://localhost:8080/"
    },
    "id": "U8ASAnRmpP_U",
    "outputId": "f5dc3cd1-3a02-4ea9-8a73-19098ac1f932",
    "ExecuteTime": {
     "end_time": "2024-05-14T10:45:38.358074700Z",
     "start_time": "2024-05-14T10:45:38.228615900Z"
    }
   },
   "source": [
    "!nvidia-smi"
   ],
   "execution_count": 1,
   "outputs": [
    {
     "name": "stdout",
     "output_type": "stream",
     "text": [
      "Tue May 14 12:45:38 2024       \n",
      "+-----------------------------------------------------------------------------------------+\n",
      "| NVIDIA-SMI 551.78                 Driver Version: 551.78         CUDA Version: 12.4     |\n",
      "|-----------------------------------------+------------------------+----------------------+\n",
      "| GPU  Name                     TCC/WDDM  | Bus-Id          Disp.A | Volatile Uncorr. ECC |\n",
      "| Fan  Temp   Perf          Pwr:Usage/Cap |           Memory-Usage | GPU-Util  Compute M. |\n",
      "|                                         |                        |               MIG M. |\n",
      "|=========================================+========================+======================|\n",
      "|   0  NVIDIA GeForce GTX 1050 Ti   WDDM  |   00000000:01:00.0  On |                  N/A |\n",
      "| 25%   26C    P8             N/A /   75W |     490MiB /   4096MiB |      0%      Default |\n",
      "|                                         |                        |                  N/A |\n",
      "+-----------------------------------------+------------------------+----------------------+\n",
      "                                                                                         \n",
      "+-----------------------------------------------------------------------------------------+\n",
      "| Processes:                                                                              |\n",
      "|  GPU   GI   CI        PID   Type   Process name                              GPU Memory |\n",
      "|        ID   ID                                                               Usage      |\n",
      "|=========================================================================================|\n",
      "|    0   N/A  N/A      1172    C+G   ....0_x64__8wekyb3d8bbwe\\HxOutlook.exe      N/A      |\n",
      "|    0   N/A  N/A      1472    C+G   ...64__8wekyb3d8bbwe\\CalculatorApp.exe      N/A      |\n",
      "|    0   N/A  N/A      2208    C+G   ...oogle\\Chrome\\Application\\chrome.exe      N/A      |\n",
      "|    0   N/A  N/A      5116    C+G   ...5n1h2txyewy\\ShellExperienceHost.exe      N/A      |\n",
      "|    0   N/A  N/A      6632    C+G   ...0_x64__8wekyb3d8bbwe\\HxAccounts.exe      N/A      |\n",
      "|    0   N/A  N/A      6696    C+G   ...1.0_x64__8wekyb3d8bbwe\\Video.UI.exe      N/A      |\n",
      "|    0   N/A  N/A      8284    C+G   C:\\Windows\\explorer.exe                     N/A      |\n",
      "|    0   N/A  N/A      9824    C+G   ...2txyewy\\StartMenuExperienceHost.exe      N/A      |\n",
      "|    0   N/A  N/A     10236    C+G   ....Search_cw5n1h2txyewy\\SearchApp.exe      N/A      |\n",
      "|    0   N/A  N/A     10420    C+G   ...ekyb3d8bbwe\\PhoneExperienceHost.exe      N/A      |\n",
      "|    0   N/A  N/A     10572    C+G   ...wekyb3d8bbwe\\XboxGameBarWidgets.exe      N/A      |\n",
      "|    0   N/A  N/A     12112    C+G   ...CBS_cw5n1h2txyewy\\TextInputHost.exe      N/A      |\n",
      "|    0   N/A  N/A     12864    C+G   ...siveControlPanel\\SystemSettings.exe      N/A      |\n",
      "+-----------------------------------------------------------------------------------------+\n"
     ]
    }
   ]
  },
  {
   "cell_type": "markdown",
   "metadata": {
    "id": "goNRU1XIpaui"
   },
   "source": [
    "## 0.1 Install Required Packages"
   ]
  },
  {
   "cell_type": "code",
   "metadata": {
    "colab": {
     "base_uri": "https://localhost:8080/"
    },
    "id": "Ecr0n_E0pRG6",
    "outputId": "66ebe754-c90d-46bc-d3e3-67cb5334f612",
    "ExecuteTime": {
     "end_time": "2024-05-14T10:45:53.187501300Z",
     "start_time": "2024-05-14T10:45:38.362746900Z"
    }
   },
   "source": [
    "!pip install git+https://github.com/modAL-python/modAL.git skorch"
   ],
   "execution_count": 2,
   "outputs": [
    {
     "name": "stdout",
     "output_type": "stream",
     "text": [
      "Collecting git+https://github.com/modAL-python/modAL.git\n",
      "  Cloning https://github.com/modAL-python/modAL.git to c:\\users\\barnus\\appdata\\local\\temp\\pip-req-build-_vddjw5r\n",
      "  Resolved https://github.com/modAL-python/modAL.git to commit bba6f6fd00dbb862b1e09259b78caf6cffa2e755\n",
      "  Installing build dependencies: started\n",
      "  Installing build dependencies: finished with status 'done'\n",
      "  Getting requirements to build wheel: started\n",
      "  Getting requirements to build wheel: finished with status 'done'\n",
      "  Preparing metadata (pyproject.toml): started\n",
      "  Preparing metadata (pyproject.toml): finished with status 'done'\n",
      "Requirement already satisfied: skorch in c:\\users\\barnus\\documents\\suli\\mestersegesintelligencia\\dbalwithgraphs\\dbalwithgraphs\\lib\\site-packages (0.9.0)\n",
      "Requirement already satisfied: numpy in c:\\users\\barnus\\documents\\suli\\mestersegesintelligencia\\dbalwithgraphs\\dbalwithgraphs\\lib\\site-packages (from modAL-python==0.4.2) (1.26.3)\n",
      "Requirement already satisfied: scikit-learn>=0.18 in c:\\users\\barnus\\documents\\suli\\mestersegesintelligencia\\dbalwithgraphs\\dbalwithgraphs\\lib\\site-packages (from modAL-python==0.4.2) (1.4.2)\n",
      "Requirement already satisfied: scipy>=0.18 in c:\\users\\barnus\\documents\\suli\\mestersegesintelligencia\\dbalwithgraphs\\dbalwithgraphs\\lib\\site-packages (from modAL-python==0.4.2) (1.13.0)\n",
      "Requirement already satisfied: pandas>=1.1.0 in c:\\users\\barnus\\documents\\suli\\mestersegesintelligencia\\dbalwithgraphs\\dbalwithgraphs\\lib\\site-packages (from modAL-python==0.4.2) (2.2.2)\n",
      "Requirement already satisfied: tabulate>=0.7.7 in c:\\users\\barnus\\documents\\suli\\mestersegesintelligencia\\dbalwithgraphs\\dbalwithgraphs\\lib\\site-packages (from skorch) (0.9.0)\n",
      "Requirement already satisfied: tqdm>=4.14.0 in c:\\users\\barnus\\documents\\suli\\mestersegesintelligencia\\dbalwithgraphs\\dbalwithgraphs\\lib\\site-packages (from skorch) (4.66.4)\n",
      "Requirement already satisfied: python-dateutil>=2.8.2 in c:\\users\\barnus\\documents\\suli\\mestersegesintelligencia\\dbalwithgraphs\\dbalwithgraphs\\lib\\site-packages (from pandas>=1.1.0->modAL-python==0.4.2) (2.9.0.post0)\n",
      "Requirement already satisfied: pytz>=2020.1 in c:\\users\\barnus\\documents\\suli\\mestersegesintelligencia\\dbalwithgraphs\\dbalwithgraphs\\lib\\site-packages (from pandas>=1.1.0->modAL-python==0.4.2) (2024.1)\n",
      "Requirement already satisfied: tzdata>=2022.7 in c:\\users\\barnus\\documents\\suli\\mestersegesintelligencia\\dbalwithgraphs\\dbalwithgraphs\\lib\\site-packages (from pandas>=1.1.0->modAL-python==0.4.2) (2024.1)\n",
      "Requirement already satisfied: joblib>=1.2.0 in c:\\users\\barnus\\documents\\suli\\mestersegesintelligencia\\dbalwithgraphs\\dbalwithgraphs\\lib\\site-packages (from scikit-learn>=0.18->modAL-python==0.4.2) (1.4.2)\n",
      "Requirement already satisfied: threadpoolctl>=2.0.0 in c:\\users\\barnus\\documents\\suli\\mestersegesintelligencia\\dbalwithgraphs\\dbalwithgraphs\\lib\\site-packages (from scikit-learn>=0.18->modAL-python==0.4.2) (3.5.0)\n",
      "Requirement already satisfied: colorama in c:\\users\\barnus\\documents\\suli\\mestersegesintelligencia\\dbalwithgraphs\\dbalwithgraphs\\lib\\site-packages (from tqdm>=4.14.0->skorch) (0.4.6)\n",
      "Requirement already satisfied: six>=1.5 in c:\\users\\barnus\\documents\\suli\\mestersegesintelligencia\\dbalwithgraphs\\dbalwithgraphs\\lib\\site-packages (from python-dateutil>=2.8.2->pandas>=1.1.0->modAL-python==0.4.2) (1.16.0)\n"
     ]
    },
    {
     "name": "stderr",
     "output_type": "stream",
     "text": [
      "  Running command git clone --filter=blob:none --quiet https://github.com/modAL-python/modAL.git 'C:\\Users\\Barnus\\AppData\\Local\\Temp\\pip-req-build-_vddjw5r'\n",
      "\n",
      "[notice] A new release of pip is available: 23.2.1 -> 24.0\n",
      "[notice] To update, run: python.exe -m pip install --upgrade pip\n"
     ]
    }
   ]
  },
  {
   "cell_type": "markdown",
   "metadata": {
    "id": "bueqgwbEptmK"
   },
   "source": [
    "## 1.0 Load Packages"
   ]
  },
  {
   "cell_type": "code",
   "metadata": {
    "id": "8POGnEXmpm5Q",
    "ExecuteTime": {
     "end_time": "2024-05-14T10:45:58.792783800Z",
     "start_time": "2024-05-14T10:45:53.187501300Z"
    }
   },
   "source": [
    "%matplotlib inline\n",
    "\n",
    "import numpy as np\n",
    "import matplotlib\n",
    "import matplotlib.pyplot as plt\n",
    "import os\n",
    "import scipy as sp\n",
    "import seaborn as sns\n",
    "import time\n",
    "import torch\n",
    "import torch.nn as nn\n",
    "import torch.nn.functional as F\n",
    "import torchvision.transforms as transforms\n",
    "\n",
    "from modAL.models import ActiveLearner, BayesianOptimizer\n",
    "from scipy import stats\n",
    "from scipy.ndimage.filters import gaussian_filter1d\n",
    "from scipy.spatial.distance import pdist, squareform\n",
    "from skorch import NeuralNetClassifier\n",
    "from torchvision.datasets import MNIST\n",
    "from torch.utils.data import DataLoader, random_split"
   ],
   "execution_count": 3,
   "outputs": [
    {
     "name": "stderr",
     "output_type": "stream",
     "text": [
      "C:\\Users\\Barnus\\AppData\\Local\\Temp\\ipykernel_1724\\3672198426.py:17: DeprecationWarning: Please import `gaussian_filter1d` from the `scipy.ndimage` namespace; the `scipy.ndimage.filters` namespace is deprecated and will be removed in SciPy 2.0.0.\n",
      "  from scipy.ndimage.filters import gaussian_filter1d\n"
     ]
    }
   ]
  },
  {
   "cell_type": "markdown",
   "metadata": {
    "id": "8HpwjzqMt3F4"
   },
   "source": [
    "## 1.1 Load Datasets"
   ]
  },
  {
   "cell_type": "code",
   "metadata": {
    "id": "l_2IgrT6vlrC",
    "ExecuteTime": {
     "end_time": "2024-05-14T10:45:58.799682400Z",
     "start_time": "2024-05-14T10:45:58.798121400Z"
    }
   },
   "source": [
    "def tensor_to_np(tensor_data: torch.Tensor) -> np.ndarray:\n",
    "    \"\"\"Since Skorch doesn not support dtype of torch.Tensor, we will modify\n",
    "    the dtype to numpy.ndarray\n",
    "    Attribute:\n",
    "        tensor_data: Data of class type=torch.Tensor\n",
    "    \"\"\"\n",
    "    np_data = tensor_data.detach().numpy()\n",
    "    return np_data"
   ],
   "execution_count": 4,
   "outputs": []
  },
  {
   "cell_type": "code",
   "metadata": {
    "id": "LFdIPFfvvn3n",
    "ExecuteTime": {
     "end_time": "2024-05-14T10:45:58.810195300Z",
     "start_time": "2024-05-14T10:45:58.799682400Z"
    }
   },
   "source": [
    "TRAIN_SIZE = 10000\n",
    "VAL_SIZE = 300\n",
    "POOL_SIZE = 60000 - TRAIN_SIZE - VAL_SIZE"
   ],
   "execution_count": 5,
   "outputs": []
  },
  {
   "cell_type": "code",
   "metadata": {
    "id": "mFX1jgiTt2Xs",
    "colab": {
     "base_uri": "https://localhost:8080/",
     "height": 514,
     "referenced_widgets": [
      "7efb1b31fe3d429facaebbf8d9f70cea",
      "63f9e8f5c22c454fa8df54e5da6ebc45",
      "503ba1cd7e1c40ea98f8cdbcef1d3b76",
      "2c1da7bd8b524666ae0086c82095e214",
      "d7955a1118834a6e8a5e951a3613dbd2",
      "514c468eac06446e86ca9505fdeb5592",
      "b02fa94725c542c7b508c7e4e2380901",
      "e62b575c26c342a783ce2244645bf8c8",
      "3901cdd8c2d74856b81a192552645bb1",
      "b1dc88a5e47944d2943f81a4745f0d91",
      "09b628aab8fe48b3baf8032832a2b2d7",
      "cbc0462095eb477fb4552e66c816ceb2",
      "2afc728871be4afa8da5dbda079dfb87",
      "d030d33a5d1b4991bafb4ca97df381ba",
      "b8f32f5f1ada4323a49e7229790b427d",
      "b4ec75c8fc074011964a4b8e4ca3e9b4",
      "f8878bc395354dbd925cdc95cbeff704",
      "17a23def78c0492abf3225cc6468f836",
      "014c489e79034e9fb8d12dd2264c312c",
      "2e7b84b61dad4cb29cab7b3359866e26",
      "002dcd76137a4c0085b9e88b8d21232d",
      "0308b63c7fc548dfb1df39b094da76bf",
      "c5c13b22e3304125b2b3ed88ffc042bf",
      "630d6c0992014d6a8c5b9219c07cafaf",
      "024c5025523d41c8a15ef2abff899f7f",
      "588172b0d77845208662681dd45ba376",
      "89e410d0f3d947eca2279fa79206595a",
      "02936b7b61254a01822833517cea2f13",
      "ac1065531699495e9cc0f629bd3c1435",
      "73d29da2131c4fd7a21e94d162322048",
      "0df162b91a7f41aea412b5a2d2164ba4",
      "69d106f9f09045289860181456c18235"
     ]
    },
    "outputId": "ceec565c-482f-44ca-9910-ebbddde505a5",
    "ExecuteTime": {
     "end_time": "2024-05-14T10:46:13.560863600Z",
     "start_time": "2024-05-14T10:45:58.810195300Z"
    }
   },
   "source": [
    "transform = transforms.Compose(\n",
    "    [transforms.ToTensor(), transforms.Normalize((0.1307,), (0.3081,))]\n",
    ")\n",
    "\n",
    "mnist_train = MNIST(\".\", train=True, download=True, transform=transform)\n",
    "mnist_test = MNIST(\".\", train=False, download=True, transform=transform)\n",
    "\n",
    "\n",
    "train_set, val_set, pool_set = random_split(\n",
    "    mnist_train, [TRAIN_SIZE, VAL_SIZE, POOL_SIZE]\n",
    ")\n",
    "train_loader = DataLoader(dataset=train_set, batch_size=TRAIN_SIZE, shuffle=True)\n",
    "val_loader = DataLoader(dataset=val_set, batch_size=VAL_SIZE, shuffle=True)\n",
    "pool_loader = DataLoader(dataset=pool_set, batch_size=POOL_SIZE, shuffle=True)\n",
    "test_loader = DataLoader(dataset=mnist_test, batch_size=10000, shuffle=True)\n",
    "\n",
    "\n",
    "X_train_All, y_train_All = next(iter(train_loader))\n",
    "X_val, y_val = next(iter(val_loader))\n",
    "X_pool, y_pool = next(iter(pool_loader))\n",
    "X_test, y_test = next(iter(test_loader))"
   ],
   "execution_count": 6,
   "outputs": []
  },
  {
   "cell_type": "markdown",
   "metadata": {
    "id": "tlchr4cM4nu4"
   },
   "source": [
    "To build a binary classification model for MNIST, we will first select the target number. (For instance, digit 9) Next, change the label to True or False, if image==9, return True and vice versa. "
   ]
  },
  {
   "cell_type": "code",
   "metadata": {
    "id": "VZlkJNJm6xnJ",
    "ExecuteTime": {
     "end_time": "2024-05-14T10:46:13.567131100Z",
     "start_time": "2024-05-14T10:46:13.560863600Z"
    }
   },
   "source": [
    "y_train_All_9 = y_train_All == 9\n",
    "y_val_9 = y_val == 9\n",
    "y_pool_9 = y_pool == 9\n",
    "y_test_9 = y_test == 9"
   ],
   "execution_count": 7,
   "outputs": []
  },
  {
   "cell_type": "code",
   "metadata": {
    "colab": {
     "base_uri": "https://localhost:8080/"
    },
    "id": "xK_QChjqvZws",
    "outputId": "39ebf218-d3da-40aa-d42b-a56203dc8219",
    "ExecuteTime": {
     "end_time": "2024-05-14T10:46:13.582320500Z",
     "start_time": "2024-05-14T10:46:13.567131100Z"
    }
   },
   "source": [
    "initial_idx = np.array([], dtype=int)\n",
    "state = True\n",
    "\n",
    "for i in range(2):\n",
    "    idx = np.random.choice(np.where(y_train_All_9 == state)[0], size=10, replace=False)\n",
    "    initial_idx = np.concatenate((initial_idx, idx))\n",
    "    state = False\n",
    "\n",
    "\n",
    "X_init = X_train_All[initial_idx]\n",
    "y_init_9 = y_train_All_9[initial_idx]\n",
    "\n",
    "\n",
    "print(f\"Initial training data points: {X_init.shape[0]}\")\n",
    "print(f\"Data distribution for each class: {np.bincount(y_init_9)}\")"
   ],
   "execution_count": 8,
   "outputs": [
    {
     "name": "stdout",
     "output_type": "stream",
     "text": [
      "Initial training data points: 20\n",
      "Data distribution for each class: [10 10]\n"
     ]
    }
   ]
  },
  {
   "cell_type": "code",
   "metadata": {
    "colab": {
     "base_uri": "https://localhost:8080/"
    },
    "id": "jIxfOH_ewFhe",
    "outputId": "87d1cfd8-f539-488e-b9c7-b647dc95be25",
    "ExecuteTime": {
     "end_time": "2024-05-14T10:46:13.592340800Z",
     "start_time": "2024-05-14T10:46:13.582320500Z"
    }
   },
   "source": [
    "X_init = tensor_to_np(X_init)\n",
    "y_init = tensor_to_np(y_init_9).astype(int)\n",
    "X_val = tensor_to_np(X_val)\n",
    "y_val = tensor_to_np(y_val_9).astype(int)\n",
    "X_pool = tensor_to_np(X_pool)\n",
    "y_pool = tensor_to_np(y_pool_9).astype(int)\n",
    "X_test = tensor_to_np(X_test)\n",
    "y_test = tensor_to_np(y_test_9).astype(int)\n",
    "\n",
    "\n",
    "print(f\"Data type: {type(X_test)}\")"
   ],
   "execution_count": 9,
   "outputs": [
    {
     "name": "stdout",
     "output_type": "stream",
     "text": [
      "Data type: <class 'numpy.ndarray'>\n"
     ]
    }
   ]
  },
  {
   "cell_type": "code",
   "metadata": {
    "colab": {
     "base_uri": "https://localhost:8080/",
     "height": 283
    },
    "id": "O7rNwM4v5HRA",
    "outputId": "aa6faaad-1d92-434f-e058-447f5712212f",
    "ExecuteTime": {
     "end_time": "2024-05-14T10:46:13.809864400Z",
     "start_time": "2024-05-14T10:46:13.592340800Z"
    }
   },
   "source": [
    "random_idx = np.random.randint(0, 20)\n",
    "random_digit = X_init[random_idx]\n",
    "random_digit_img = random_digit.reshape(28, 28)\n",
    "\n",
    "plt.imshow(random_digit_img, cmap=matplotlib.cm.binary, interpolation=\"nearest\")\n",
    "plt.axis(\"on\")\n",
    "plt.show()\n",
    "\n",
    "print(f\"This digit is equal to 9: {y_init[random_idx]}\")  # If True, return 1, else 0"
   ],
   "execution_count": 10,
   "outputs": [
    {
     "data": {
      "text/plain": "<Figure size 640x480 with 1 Axes>",
      "image/png": "[encoded data removed]"
     },
     "metadata": {},
     "output_type": "display_data"
    },
    {
     "name": "stdout",
     "output_type": "stream",
     "text": [
      "This digit is equal to 9: 1\n"
     ]
    }
   ]
  },
  {
   "cell_type": "markdown",
   "metadata": {
    "id": "6s-FQY4Mrgje"
   },
   "source": [
    "## 2.0 Acquisition Functions\n",
    "* Random (Uniform): baseline\n",
    "* Max Entropy\n",
    "* BALD \n",
    "* Var Ratios"
   ]
  },
  {
   "cell_type": "code",
   "metadata": {
    "id": "nOOwCgMYtFu4",
    "ExecuteTime": {
     "end_time": "2024-05-14T10:46:13.822711Z",
     "start_time": "2024-05-14T10:46:13.819928500Z"
    }
   },
   "source": [
    "def predictions_from_pool(\n",
    "    model, X_pool: np.ndarray, T: int = 100, training: bool = True\n",
    "):\n",
    "    \"\"\"Run random_subset prediction on model and return the output\n",
    "    Attributes:\n",
    "        X_pool: Pool set to select uncertainty,\n",
    "        T: Number of MC dropout iterations aka training iterations,\n",
    "        training: If False, run test without MC dropout. (default=True)\n",
    "    \"\"\"\n",
    "    random_subset = np.random.choice(range(len(X_pool)), size=500, replace=False)\n",
    "    with torch.no_grad():\n",
    "        outputs = np.stack(\n",
    "            [\n",
    "                torch.softmax(\n",
    "                    model.estimator.forward(X_pool[random_subset], training=training),\n",
    "                    dim=-1,\n",
    "                )\n",
    "                .cpu()\n",
    "                .numpy()\n",
    "                for _ in range(T)\n",
    "            ]\n",
    "        )\n",
    "    return outputs, random_subset\n",
    "\n",
    "\n",
    "def uniform(\n",
    "    model, X_pool: np.ndarray, n_query: int = 10, T: int = 100, training: bool = True\n",
    "):\n",
    "    \"\"\"Baseline acquisition a(x) = unif() with unif() a function\n",
    "    returning a draw from a uniform distribution over the interval [0,1].\n",
    "    Using this acquisition function is equivalent to choosing a point\n",
    "    uniformly at random from the pool.\n",
    "    Attributes:\n",
    "        X_pool: Pool set to select uncertainty,\n",
    "        n_query: Number of points that randomly select from pool set,\n",
    "        training: If False, run test without MC dropout. (default=True)\n",
    "    \"\"\"\n",
    "    query_idx = np.random.choice(range(len(X_pool)), size=n_query, replace=False)\n",
    "    return query_idx, X_pool[query_idx]\n",
    "\n",
    "\n",
    "def shannon_entropy_function(\n",
    "    model, X_pool: np.ndarray, T: int = 100, E_H: bool = False, training: bool = True\n",
    "):\n",
    "    \"\"\"H[y|x,D_train] := - sum_{c} p(y=c|x,D_train)log p(y=c|x,D_train)\n",
    "    Attributes:\n",
    "        model: Model that is ready to measure uncertainty after training,\n",
    "        X_pool: Pool set to select uncertainty,\n",
    "        T: Number of MC dropout iterations aka training iterations,\n",
    "        E_H: If True, compute H and EH for BALD (default: False),\n",
    "        training: If False, run test without MC dropout. (default=True)\n",
    "    \"\"\"\n",
    "    outputs, random_subset = predictions_from_pool(model, X_pool, T, training=training)\n",
    "    pc = outputs.mean(axis=0)\n",
    "    H = (-pc * np.log(pc + 1e-10)).sum(\n",
    "        axis=-1\n",
    "    )  # To avoid division with zero, add 1e-10\n",
    "    if E_H:\n",
    "        E = -np.mean(np.sum(outputs * np.log(outputs + 1e-10), axis=-1), axis=0)\n",
    "        return H, E, random_subset\n",
    "    return H, random_subset\n",
    "\n",
    "\n",
    "def max_entropy(\n",
    "    model, X_pool: np.ndarray, n_query: int = 10, T: int = 100, training: bool = True\n",
    "):\n",
    "    \"\"\"Choose pool points that maximise the predictive entropy.\n",
    "    Using Shannon entropy function.\n",
    "    Attributes:\n",
    "        model: Model that is ready to measure uncertainty after training,\n",
    "        X_pool: Pool set to select uncertainty,\n",
    "        n_query: Number of points that maximise max_entropy a(x) from pool set,\n",
    "        T: Number of MC dropout iterations aka training iterations,\n",
    "        training: If False, run test without MC dropout. (default=True)\n",
    "    \"\"\"\n",
    "    acquisition, random_subset = shannon_entropy_function(\n",
    "        model, X_pool, T, training=training\n",
    "    )\n",
    "    idx = (-acquisition).argsort()[:n_query]\n",
    "    query_idx = random_subset[idx]\n",
    "    return query_idx, X_pool[query_idx]\n",
    "\n",
    "\n",
    "def bald(\n",
    "    model, X_pool: np.ndarray, n_query: int = 10, T: int = 100, training: bool = True\n",
    "):\n",
    "    \"\"\"Choose pool points that are expected to maximise the information\n",
    "    gained about the model parameters, i.e. maximise the mutal information\n",
    "    between predictions and model posterior. Given\n",
    "    I[y,w|x,D_train] = H[y|x,D_train] - E_{p(w|D_train)}[H[y|x,w]]\n",
    "    with w the model parameters (H[y|x,w] is the entropy of y given w).\n",
    "    Points that maximise this acquisition function are points on which the\n",
    "    model is uncertain on average but there exist model parameters that produce\n",
    "    disagreeing predictions with high certainty. This is equivalent to points\n",
    "    with high variance in th einput to the softmax layer\n",
    "    Attributes:\n",
    "        model: Model that is ready to measure uncertainty after training,\n",
    "        X_pool: Pool set to select uncertainty,\n",
    "        n_query: Number of points that maximise bald a(x) from pool set,\n",
    "        T: Number of MC dropout iterations aka training iterations,\n",
    "        training: If False, run test without MC dropout. (default=True)\n",
    "    \"\"\"\n",
    "    H, E_H, random_subset = shannon_entropy_function(\n",
    "        model, X_pool, T, E_H=True, training=training\n",
    "    )\n",
    "    acquisition = H - E_H\n",
    "    idx = (-acquisition).argsort()[:n_query]\n",
    "    query_idx = random_subset[idx]\n",
    "    return query_idx, X_pool[query_idx]\n",
    "\n",
    "\n",
    "def var_ratios(\n",
    "    model, X_pool: np.ndarray, n_query: int = 10, T: int = 100, training: bool = True\n",
    "):\n",
    "    \"\"\"Like Max Entropy but Variational Ratios measures lack of confidence.\n",
    "    Given: variational_ratio[x] := 1 - max_{y} p(y|x,D_{train})\n",
    "    Attributes:\n",
    "        model: Model that is ready to measure uncertainty after training,\n",
    "        X_pool: Pool set to select uncertainty,\n",
    "        n_query: Number of points that maximise var_ratios a(x) from pool set,\n",
    "        T: Number of MC dropout iterations aka training iterations,\n",
    "        training: If False, run test without MC dropout. (default=True)\n",
    "    \"\"\"\n",
    "    outputs, random_subset = predictions_from_pool(model, X_pool, T, training)\n",
    "    preds = np.argmax(outputs, axis=2)\n",
    "    _, count = stats.mode(preds, axis=0)\n",
    "    acquisition = (1 - count / preds.shape[1]).reshape((-1,))\n",
    "    idx = (-acquisition).argsort()[:n_query]\n",
    "    query_idx = random_subset[idx]\n",
    "    return query_idx, X_pool[query_idx]"
   ],
   "execution_count": 11,
   "outputs": []
  },
  {
   "cell_type": "markdown",
   "metadata": {
    "id": "eJlLlXgErSsB"
   },
   "source": [
    "## 2.1 Define CNN architecture"
   ]
  },
  {
   "cell_type": "code",
   "metadata": {
    "id": "56w70llWrQLw",
    "ExecuteTime": {
     "end_time": "2024-05-14T10:46:13.834387700Z",
     "start_time": "2024-05-14T10:46:13.830347100Z"
    }
   },
   "source": [
    "class ConvNN(nn.Module):\n",
    "    def __init__(\n",
    "        self,\n",
    "        num_filters: int = 32,\n",
    "        kernel_size: int = 4,\n",
    "        dense_layer: int = 128,\n",
    "        img_rows: int = 28,\n",
    "        img_cols: int = 28,\n",
    "        maxpool: int = 2,\n",
    "    ):\n",
    "        \"\"\"\n",
    "        Basic Architecture of CNN\n",
    "        Attributes:\n",
    "            num_filters: Number of filters, out channel for 1st and 2nd conv layers,\n",
    "            kernel_size: Kernel size of convolution,\n",
    "            dense_layer: Dense layer units,\n",
    "            img_rows: Height of input image,\n",
    "            img_cols: Width of input image,\n",
    "            maxpool: Max pooling size\n",
    "        \"\"\"\n",
    "        super(ConvNN, self).__init__()\n",
    "        self.conv1 = nn.Conv2d(1, num_filters, kernel_size, 1)\n",
    "        self.conv2 = nn.Conv2d(num_filters, num_filters, kernel_size, 1)\n",
    "        self.dropout1 = nn.Dropout(0.25)\n",
    "        self.dropout2 = nn.Dropout(0.5)\n",
    "        self.fc1 = nn.Linear(\n",
    "            num_filters\n",
    "            * ((img_rows - 2 * kernel_size + 2) // 2)\n",
    "            * ((img_cols - 2 * kernel_size + 2) // 2),\n",
    "            dense_layer,\n",
    "        )\n",
    "        self.fc2 = nn.Linear(dense_layer, 10)\n",
    "\n",
    "    def forward(self, x: torch.Tensor) -> torch.Tensor:\n",
    "        x = self.conv1(x)\n",
    "        x = F.relu(x)\n",
    "        x = self.conv2(x)\n",
    "        x = F.relu(x)\n",
    "        x = F.max_pool2d(x, 2)\n",
    "        x = self.dropout1(x)\n",
    "        x = torch.flatten(x, 1)\n",
    "        x = self.fc1(x)\n",
    "        x = F.relu(x)\n",
    "        x = self.dropout2(x)\n",
    "        out = self.fc2(x)\n",
    "        return out"
   ],
   "execution_count": 12,
   "outputs": []
  },
  {
   "cell_type": "markdown",
   "metadata": {
    "id": "JK6j5xTWtlQ6"
   },
   "source": [
    "## 2.2 Define Active Learning Procedure"
   ]
  },
  {
   "cell_type": "code",
   "metadata": {
    "id": "qYcwmJmLtk71",
    "ExecuteTime": {
     "end_time": "2024-05-14T10:46:13.852955600Z",
     "start_time": "2024-05-14T10:46:13.843815400Z"
    }
   },
   "source": [
    "def active_learning_procedure(\n",
    "    query_strategy,\n",
    "    X_val: np.ndarray,\n",
    "    y_val: np.ndarray,\n",
    "    X_test: np.ndarray,\n",
    "    y_test: np.ndarray,\n",
    "    X_pool: np.ndarray,\n",
    "    y_pool: np.ndarray,\n",
    "    X_init: np.ndarray,\n",
    "    y_init: np.ndarray,\n",
    "    estimator,\n",
    "    T: int = 100,\n",
    "    n_query: int = 10,\n",
    "    training: bool = True,\n",
    "):\n",
    "    \"\"\"Active Learning Procedure\n",
    "    Attributes:\n",
    "        query_strategy: Choose between Uniform(baseline), max_entropy, bald,\n",
    "        X_val, y_val: Validation dataset,\n",
    "        X_test, y_test: Test dataset,\n",
    "        X_pool, y_pool: Query pool set,\n",
    "        X_init, y_init: Initial training set data points,\n",
    "        estimator: Neural Network architecture, e.g. CNN,\n",
    "        T: Number of MC dropout iterations (repeat acqusition process T times),\n",
    "        n_query: Number of points to query from X_pool,\n",
    "        training: If False, run test without MC Dropout (default: True)\n",
    "    \"\"\"\n",
    "    learner = ActiveLearner(\n",
    "        estimator=estimator,\n",
    "        X_training=X_init,\n",
    "        y_training=y_init,\n",
    "        query_strategy=query_strategy,\n",
    "    )\n",
    "    perf_hist = [learner.score(X_test, y_test)]\n",
    "    for index in range(T):\n",
    "        query_idx, query_instance = learner.query(\n",
    "            X_pool, n_query=n_query, T=T, training=training\n",
    "        )\n",
    "        learner.teach(X_pool[query_idx], y_pool[query_idx])\n",
    "        X_pool = np.delete(X_pool, query_idx, axis=0)\n",
    "        y_pool = np.delete(y_pool, query_idx, axis=0)\n",
    "        model_accuracy_val = learner.score(X_val, y_val)\n",
    "        if (index + 1) % 5 == 0:\n",
    "            print(f\"Val Accuracy after query {index+1}: {model_accuracy_val:0.4f}\")\n",
    "        perf_hist.append(model_accuracy_val)\n",
    "    model_accuracy_test = learner.score(X_test, y_test)\n",
    "    print(f\"********** Test Accuracy per experiment: {model_accuracy_test} **********\")\n",
    "    return perf_hist, model_accuracy_test"
   ],
   "execution_count": 13,
   "outputs": []
  },
  {
   "cell_type": "markdown",
   "metadata": {
    "id": "4D60AF1Ns_lq"
   },
   "source": [
    "## 3.0 Define Hyperparameters"
   ]
  },
  {
   "cell_type": "code",
   "metadata": {
    "colab": {
     "base_uri": "https://localhost:8080/"
    },
    "id": "RNxBdBcCrhji",
    "outputId": "7fb10d70-1a76-438f-859a-d4a2946c9d13",
    "ExecuteTime": {
     "end_time": "2024-05-14T10:46:14.127637400Z",
     "start_time": "2024-05-14T10:46:13.844335400Z"
    }
   },
   "source": [
    "ACQ_FUNCS = [uniform, max_entropy, bald, var_ratios]\n",
    "BATCH_SIZE = 128\n",
    "DEVICE = torch.device(\"cuda:0\" if torch.cuda.is_available() else \"cpu\")\n",
    "DROPOUT_ITER = 100\n",
    "EPOCHS = 50\n",
    "EXPERIMENTS = 3\n",
    "N_QUERY = 10\n",
    "LR = 1e-3\n",
    "RESULT_DIR = \"result_npy\"\n",
    "SEED = 369\n",
    "\n",
    "\n",
    "if not os.path.exists(RESULT_DIR):\n",
    "    os.mkdir(RESULT_DIR)\n",
    "\n",
    "\n",
    "print(f\"Using device: {DEVICE}\")"
   ],
   "execution_count": 14,
   "outputs": [
    {
     "name": "stdout",
     "output_type": "stream",
     "text": [
      "Using device: cuda:0\n"
     ]
    }
   ]
  },
  {
   "cell_type": "markdown",
   "metadata": {
    "id": "gVwhZQA8CXSX"
   },
   "source": [
    "## 3.1 Functions"
   ]
  },
  {
   "cell_type": "code",
   "metadata": {
    "id": "zggFu_63rd2n",
    "ExecuteTime": {
     "end_time": "2024-05-14T10:46:14.127637400Z",
     "start_time": "2024-05-14T10:46:13.852955600Z"
    }
   },
   "source": [
    "def load_CNN_model():\n",
    "    \"\"\"Load new model each time for different acqusition function\n",
    "    each experiments\"\"\"\n",
    "    model = ConvNN().to(DEVICE)\n",
    "    cnn_classifier = NeuralNetClassifier(\n",
    "        module=model,\n",
    "        lr=LR,\n",
    "        batch_size=BATCH_SIZE,\n",
    "        max_epochs=EPOCHS,\n",
    "        criterion=nn.CrossEntropyLoss,\n",
    "        optimizer=torch.optim.Adam,\n",
    "        train_split=None,\n",
    "        verbose=0,\n",
    "        device=DEVICE,\n",
    "    )\n",
    "    return cnn_classifier\n",
    "\n",
    "\n",
    "def save_as_npy(data: np.ndarray, name: str):\n",
    "    \"\"\"Save result as npy file\n",
    "\n",
    "    Attributes:\n",
    "        data: np array to be saved as npy file,\n",
    "        folder: result folder name,\n",
    "        name: npy filename\n",
    "    \"\"\"\n",
    "    file_name = os.path.join(RESULT_DIR, name + \".npy\")\n",
    "    np.save(file_name, data)\n",
    "    print(f\"Saved: {file_name}\")\n",
    "\n",
    "\n",
    "def plot_results(data: dict):\n",
    "    \"\"\"Plot results histogram using matplotlib\"\"\"\n",
    "    sns.set()\n",
    "    plt.figure(figsize=(7, 5))\n",
    "    for key in data.keys():\n",
    "        data[key] = gaussian_filter1d(data[key], sigma=0.9)  # for smoother graph\n",
    "        plt.plot(data[key], label=key)\n",
    "    plt.ylim([0.94, 1.00])\n",
    "    plt.legend()\n",
    "    plt.show()\n",
    "\n",
    "\n",
    "def print_elapsed_time(start_time: float, exp: int, acq_func: str):\n",
    "    \"\"\"Print elapsed time for each experiment of acquiring\n",
    "    Attributes:\n",
    "        start_time: Starting time (in time.time()),\n",
    "        exp: Experiment iteration\n",
    "        acq_func: Name of acquisition function\n",
    "    \"\"\"\n",
    "    elp = time.time() - start_time\n",
    "    print(\n",
    "        f\"********** Experiment {exp} ({acq_func}): {int(elp//3600)}:\\\n",
    "        {int(elp%3600//60)}:{int(elp%60)} **********\"\n",
    "    )"
   ],
   "execution_count": 15,
   "outputs": []
  },
  {
   "cell_type": "markdown",
   "metadata": {
    "id": "5qX90gRwDP1-"
   },
   "source": [
    "## 4.0 Start Active Learning with Acquisition Functions\n",
    "- random\n",
    "- max_entropy\n",
    "- bald\n",
    "- var ratios"
   ]
  },
  {
   "cell_type": "code",
   "metadata": {
    "id": "UKNT8FFQEbwK",
    "ExecuteTime": {
     "end_time": "2024-05-14T10:46:16.368996Z",
     "start_time": "2024-05-14T10:46:13.862668Z"
    }
   },
   "source": [
    "results = dict()\n",
    "\n",
    "\n",
    "for i, acq_func in enumerate(ACQ_FUNCS):\n",
    "    avg_hist = []\n",
    "    test_scores = []\n",
    "    acq_func_name = str(acq_func).split(\" \")[1]\n",
    "    print(f\"\\n---------- Start {acq_func_name} training! ----------\")\n",
    "    for e in range(EXPERIMENTS):\n",
    "        start_time = time.time()\n",
    "        estimator = load_CNN_model()\n",
    "        print(f\"********** Experiment Iterations: {e+1}/{EXPERIMENTS} **********\")\n",
    "        training_hist, test_score = active_learning_procedure(\n",
    "            query_strategy=acq_func,\n",
    "            X_val=X_val,\n",
    "            y_val=y_val,\n",
    "            X_test=X_test,\n",
    "            y_test=y_test,\n",
    "            X_pool=X_pool,\n",
    "            y_pool=y_pool,\n",
    "            X_init=X_init,\n",
    "            y_init=y_init,\n",
    "            estimator=estimator,\n",
    "            T=DROPOUT_ITER,\n",
    "            n_query=N_QUERY,\n",
    "        )\n",
    "        avg_hist.append(training_hist)\n",
    "        test_scores.append(test_score)\n",
    "        print_elapsed_time(start_time, e + 1, acq_func_name)\n",
    "    avg_hist = np.average(np.array(avg_hist), axis=0)\n",
    "    avg_test = sum(test_scores) / len(test_scores)\n",
    "    print(f\"Average Test score for {acq_func_name}: {avg_test}\")\n",
    "    results[acq_func_name] = avg_hist\n",
    "    save_as_npy(data=avg_hist, name=acq_func_name)\n",
    "\n",
    "\n",
    "print(\"--------------- Done Training! ---------------\")"
   ],
   "execution_count": 16,
   "outputs": [
    {
     "name": "stdout",
     "output_type": "stream",
     "text": [
      "\n",
      "---------- Start uniform training! ----------\n",
      "********** Experiment Iterations: 1/3 **********\n"
     ]
    },
    {
     "ename": "RuntimeError",
     "evalue": "\"nll_loss_forward_reduce_cuda_kernel_2d_index\" not implemented for 'Int'",
     "output_type": "error",
     "traceback": [
      "\u001B[1;31m---------------------------------------------------------------------------\u001B[0m",
      "\u001B[1;31mRuntimeError\u001B[0m                              Traceback (most recent call last)",
      "Cell \u001B[1;32mIn[16], line 13\u001B[0m\n\u001B[0;32m     11\u001B[0m estimator \u001B[38;5;241m=\u001B[39m load_CNN_model()\n\u001B[0;32m     12\u001B[0m \u001B[38;5;28mprint\u001B[39m(\u001B[38;5;124mf\u001B[39m\u001B[38;5;124m\"\u001B[39m\u001B[38;5;124m********** Experiment Iterations: \u001B[39m\u001B[38;5;132;01m{\u001B[39;00me\u001B[38;5;241m+\u001B[39m\u001B[38;5;241m1\u001B[39m\u001B[38;5;132;01m}\u001B[39;00m\u001B[38;5;124m/\u001B[39m\u001B[38;5;132;01m{\u001B[39;00mEXPERIMENTS\u001B[38;5;132;01m}\u001B[39;00m\u001B[38;5;124m **********\u001B[39m\u001B[38;5;124m\"\u001B[39m)\n\u001B[1;32m---> 13\u001B[0m training_hist, test_score \u001B[38;5;241m=\u001B[39m \u001B[43mactive_learning_procedure\u001B[49m\u001B[43m(\u001B[49m\n\u001B[0;32m     14\u001B[0m \u001B[43m    \u001B[49m\u001B[43mquery_strategy\u001B[49m\u001B[38;5;241;43m=\u001B[39;49m\u001B[43macq_func\u001B[49m\u001B[43m,\u001B[49m\n\u001B[0;32m     15\u001B[0m \u001B[43m    \u001B[49m\u001B[43mX_val\u001B[49m\u001B[38;5;241;43m=\u001B[39;49m\u001B[43mX_val\u001B[49m\u001B[43m,\u001B[49m\n\u001B[0;32m     16\u001B[0m \u001B[43m    \u001B[49m\u001B[43my_val\u001B[49m\u001B[38;5;241;43m=\u001B[39;49m\u001B[43my_val\u001B[49m\u001B[43m,\u001B[49m\n\u001B[0;32m     17\u001B[0m \u001B[43m    \u001B[49m\u001B[43mX_test\u001B[49m\u001B[38;5;241;43m=\u001B[39;49m\u001B[43mX_test\u001B[49m\u001B[43m,\u001B[49m\n\u001B[0;32m     18\u001B[0m \u001B[43m    \u001B[49m\u001B[43my_test\u001B[49m\u001B[38;5;241;43m=\u001B[39;49m\u001B[43my_test\u001B[49m\u001B[43m,\u001B[49m\n\u001B[0;32m     19\u001B[0m \u001B[43m    \u001B[49m\u001B[43mX_pool\u001B[49m\u001B[38;5;241;43m=\u001B[39;49m\u001B[43mX_pool\u001B[49m\u001B[43m,\u001B[49m\n\u001B[0;32m     20\u001B[0m \u001B[43m    \u001B[49m\u001B[43my_pool\u001B[49m\u001B[38;5;241;43m=\u001B[39;49m\u001B[43my_pool\u001B[49m\u001B[43m,\u001B[49m\n\u001B[0;32m     21\u001B[0m \u001B[43m    \u001B[49m\u001B[43mX_init\u001B[49m\u001B[38;5;241;43m=\u001B[39;49m\u001B[43mX_init\u001B[49m\u001B[43m,\u001B[49m\n\u001B[0;32m     22\u001B[0m \u001B[43m    \u001B[49m\u001B[43my_init\u001B[49m\u001B[38;5;241;43m=\u001B[39;49m\u001B[43my_init\u001B[49m\u001B[43m,\u001B[49m\n\u001B[0;32m     23\u001B[0m \u001B[43m    \u001B[49m\u001B[43mestimator\u001B[49m\u001B[38;5;241;43m=\u001B[39;49m\u001B[43mestimator\u001B[49m\u001B[43m,\u001B[49m\n\u001B[0;32m     24\u001B[0m \u001B[43m    \u001B[49m\u001B[43mT\u001B[49m\u001B[38;5;241;43m=\u001B[39;49m\u001B[43mDROPOUT_ITER\u001B[49m\u001B[43m,\u001B[49m\n\u001B[0;32m     25\u001B[0m \u001B[43m    \u001B[49m\u001B[43mn_query\u001B[49m\u001B[38;5;241;43m=\u001B[39;49m\u001B[43mN_QUERY\u001B[49m\u001B[43m,\u001B[49m\n\u001B[0;32m     26\u001B[0m \u001B[43m\u001B[49m\u001B[43m)\u001B[49m\n\u001B[0;32m     27\u001B[0m avg_hist\u001B[38;5;241m.\u001B[39mappend(training_hist)\n\u001B[0;32m     28\u001B[0m test_scores\u001B[38;5;241m.\u001B[39mappend(test_score)\n",
      "Cell \u001B[1;32mIn[13], line 28\u001B[0m, in \u001B[0;36mactive_learning_procedure\u001B[1;34m(query_strategy, X_val, y_val, X_test, y_test, X_pool, y_pool, X_init, y_init, estimator, T, n_query, training)\u001B[0m\n\u001B[0;32m      1\u001B[0m \u001B[38;5;28;01mdef\u001B[39;00m \u001B[38;5;21mactive_learning_procedure\u001B[39m(\n\u001B[0;32m      2\u001B[0m     query_strategy,\n\u001B[0;32m      3\u001B[0m     X_val: np\u001B[38;5;241m.\u001B[39mndarray,\n\u001B[1;32m   (...)\u001B[0m\n\u001B[0;32m     14\u001B[0m     training: \u001B[38;5;28mbool\u001B[39m \u001B[38;5;241m=\u001B[39m \u001B[38;5;28;01mTrue\u001B[39;00m,\n\u001B[0;32m     15\u001B[0m ):\n\u001B[0;32m     16\u001B[0m \u001B[38;5;250m    \u001B[39m\u001B[38;5;124;03m\"\"\"Active Learning Procedure\u001B[39;00m\n\u001B[0;32m     17\u001B[0m \u001B[38;5;124;03m    Attributes:\u001B[39;00m\n\u001B[0;32m     18\u001B[0m \u001B[38;5;124;03m        query_strategy: Choose between Uniform(baseline), max_entropy, bald,\u001B[39;00m\n\u001B[1;32m   (...)\u001B[0m\n\u001B[0;32m     26\u001B[0m \u001B[38;5;124;03m        training: If False, run test without MC Dropout (default: True)\u001B[39;00m\n\u001B[0;32m     27\u001B[0m \u001B[38;5;124;03m    \"\"\"\u001B[39;00m\n\u001B[1;32m---> 28\u001B[0m     learner \u001B[38;5;241m=\u001B[39m \u001B[43mActiveLearner\u001B[49m\u001B[43m(\u001B[49m\n\u001B[0;32m     29\u001B[0m \u001B[43m        \u001B[49m\u001B[43mestimator\u001B[49m\u001B[38;5;241;43m=\u001B[39;49m\u001B[43mestimator\u001B[49m\u001B[43m,\u001B[49m\n\u001B[0;32m     30\u001B[0m \u001B[43m        \u001B[49m\u001B[43mX_training\u001B[49m\u001B[38;5;241;43m=\u001B[39;49m\u001B[43mX_init\u001B[49m\u001B[43m,\u001B[49m\n\u001B[0;32m     31\u001B[0m \u001B[43m        \u001B[49m\u001B[43my_training\u001B[49m\u001B[38;5;241;43m=\u001B[39;49m\u001B[43my_init\u001B[49m\u001B[43m,\u001B[49m\n\u001B[0;32m     32\u001B[0m \u001B[43m        \u001B[49m\u001B[43mquery_strategy\u001B[49m\u001B[38;5;241;43m=\u001B[39;49m\u001B[43mquery_strategy\u001B[49m\u001B[43m,\u001B[49m\n\u001B[0;32m     33\u001B[0m \u001B[43m    \u001B[49m\u001B[43m)\u001B[49m\n\u001B[0;32m     34\u001B[0m     perf_hist \u001B[38;5;241m=\u001B[39m [learner\u001B[38;5;241m.\u001B[39mscore(X_test, y_test)]\n\u001B[0;32m     35\u001B[0m     \u001B[38;5;28;01mfor\u001B[39;00m index \u001B[38;5;129;01min\u001B[39;00m \u001B[38;5;28mrange\u001B[39m(T):\n",
      "File \u001B[1;32m~\\Documents\\suli\\MestersegesIntelligencia\\DBALwithGraphs\\DBALwithGraphs\\Lib\\site-packages\\modAL\\models\\learners.py:86\u001B[0m, in \u001B[0;36mActiveLearner.__init__\u001B[1;34m(self, estimator, query_strategy, X_training, y_training, bootstrap_init, on_transformed, **fit_kwargs)\u001B[0m\n\u001B[0;32m     83\u001B[0m \u001B[38;5;28mself\u001B[39m\u001B[38;5;241m.\u001B[39my_training \u001B[38;5;241m=\u001B[39m y_training\n\u001B[0;32m     85\u001B[0m \u001B[38;5;28;01mif\u001B[39;00m X_training \u001B[38;5;129;01mis\u001B[39;00m \u001B[38;5;129;01mnot\u001B[39;00m \u001B[38;5;28;01mNone\u001B[39;00m:\n\u001B[1;32m---> 86\u001B[0m     \u001B[38;5;28;43mself\u001B[39;49m\u001B[38;5;241;43m.\u001B[39;49m\u001B[43m_fit_to_known\u001B[49m\u001B[43m(\u001B[49m\u001B[43mbootstrap\u001B[49m\u001B[38;5;241;43m=\u001B[39;49m\u001B[43mbootstrap_init\u001B[49m\u001B[43m,\u001B[49m\u001B[43m \u001B[49m\u001B[38;5;241;43m*\u001B[39;49m\u001B[38;5;241;43m*\u001B[39;49m\u001B[43mfit_kwargs\u001B[49m\u001B[43m)\u001B[49m\n",
      "File \u001B[1;32m~\\Documents\\suli\\MestersegesIntelligencia\\DBALwithGraphs\\DBALwithGraphs\\Lib\\site-packages\\modAL\\models\\learners.py:126\u001B[0m, in \u001B[0;36mActiveLearner._fit_to_known\u001B[1;34m(self, bootstrap, **fit_kwargs)\u001B[0m\n\u001B[0;32m    115\u001B[0m \u001B[38;5;250m\u001B[39m\u001B[38;5;124;03m\"\"\"\u001B[39;00m\n\u001B[0;32m    116\u001B[0m \u001B[38;5;124;03mFits self.estimator to the training data and labels provided to it so far.\u001B[39;00m\n\u001B[0;32m    117\u001B[0m \n\u001B[1;32m   (...)\u001B[0m\n\u001B[0;32m    123\u001B[0m \u001B[38;5;124;03m    self\u001B[39;00m\n\u001B[0;32m    124\u001B[0m \u001B[38;5;124;03m\"\"\"\u001B[39;00m\n\u001B[0;32m    125\u001B[0m \u001B[38;5;28;01mif\u001B[39;00m \u001B[38;5;129;01mnot\u001B[39;00m bootstrap:\n\u001B[1;32m--> 126\u001B[0m     \u001B[38;5;28;43mself\u001B[39;49m\u001B[38;5;241;43m.\u001B[39;49m\u001B[43mestimator\u001B[49m\u001B[38;5;241;43m.\u001B[39;49m\u001B[43mfit\u001B[49m\u001B[43m(\u001B[49m\u001B[38;5;28;43mself\u001B[39;49m\u001B[38;5;241;43m.\u001B[39;49m\u001B[43mX_training\u001B[49m\u001B[43m,\u001B[49m\u001B[43m \u001B[49m\u001B[38;5;28;43mself\u001B[39;49m\u001B[38;5;241;43m.\u001B[39;49m\u001B[43my_training\u001B[49m\u001B[43m,\u001B[49m\u001B[43m \u001B[49m\u001B[38;5;241;43m*\u001B[39;49m\u001B[38;5;241;43m*\u001B[39;49m\u001B[43mfit_kwargs\u001B[49m\u001B[43m)\u001B[49m\n\u001B[0;32m    127\u001B[0m \u001B[38;5;28;01melse\u001B[39;00m:\n\u001B[0;32m    128\u001B[0m     n_instances \u001B[38;5;241m=\u001B[39m \u001B[38;5;28mself\u001B[39m\u001B[38;5;241m.\u001B[39mX_training\u001B[38;5;241m.\u001B[39mshape[\u001B[38;5;241m0\u001B[39m]\n",
      "File \u001B[1;32m~\\Documents\\suli\\MestersegesIntelligencia\\DBALwithGraphs\\DBALwithGraphs\\Lib\\site-packages\\skorch\\classifier.py:142\u001B[0m, in \u001B[0;36mNeuralNetClassifier.fit\u001B[1;34m(self, X, y, **fit_params)\u001B[0m\n\u001B[0;32m    131\u001B[0m \u001B[38;5;250m\u001B[39m\u001B[38;5;124;03m\"\"\"See ``NeuralNet.fit``.\u001B[39;00m\n\u001B[0;32m    132\u001B[0m \n\u001B[0;32m    133\u001B[0m \u001B[38;5;124;03mIn contrast to ``NeuralNet.fit``, ``y`` is non-optional to\u001B[39;00m\n\u001B[1;32m   (...)\u001B[0m\n\u001B[0;32m    137\u001B[0m \n\u001B[0;32m    138\u001B[0m \u001B[38;5;124;03m\"\"\"\u001B[39;00m\n\u001B[0;32m    139\u001B[0m \u001B[38;5;66;03m# pylint: disable=useless-super-delegation\u001B[39;00m\n\u001B[0;32m    140\u001B[0m \u001B[38;5;66;03m# this is actually a pylint bug:\u001B[39;00m\n\u001B[0;32m    141\u001B[0m \u001B[38;5;66;03m# https://github.com/PyCQA/pylint/issues/1085\u001B[39;00m\n\u001B[1;32m--> 142\u001B[0m \u001B[38;5;28;01mreturn\u001B[39;00m \u001B[38;5;28;43msuper\u001B[39;49m\u001B[43m(\u001B[49m\u001B[43mNeuralNetClassifier\u001B[49m\u001B[43m,\u001B[49m\u001B[43m \u001B[49m\u001B[38;5;28;43mself\u001B[39;49m\u001B[43m)\u001B[49m\u001B[38;5;241;43m.\u001B[39;49m\u001B[43mfit\u001B[49m\u001B[43m(\u001B[49m\u001B[43mX\u001B[49m\u001B[43m,\u001B[49m\u001B[43m \u001B[49m\u001B[43my\u001B[49m\u001B[43m,\u001B[49m\u001B[43m \u001B[49m\u001B[38;5;241;43m*\u001B[39;49m\u001B[38;5;241;43m*\u001B[39;49m\u001B[43mfit_params\u001B[49m\u001B[43m)\u001B[49m\n",
      "File \u001B[1;32m~\\Documents\\suli\\MestersegesIntelligencia\\DBALwithGraphs\\DBALwithGraphs\\Lib\\site-packages\\skorch\\net.py:903\u001B[0m, in \u001B[0;36mNeuralNet.fit\u001B[1;34m(self, X, y, **fit_params)\u001B[0m\n\u001B[0;32m    900\u001B[0m \u001B[38;5;28;01mif\u001B[39;00m \u001B[38;5;129;01mnot\u001B[39;00m \u001B[38;5;28mself\u001B[39m\u001B[38;5;241m.\u001B[39mwarm_start \u001B[38;5;129;01mor\u001B[39;00m \u001B[38;5;129;01mnot\u001B[39;00m \u001B[38;5;28mself\u001B[39m\u001B[38;5;241m.\u001B[39minitialized_:\n\u001B[0;32m    901\u001B[0m     \u001B[38;5;28mself\u001B[39m\u001B[38;5;241m.\u001B[39minitialize()\n\u001B[1;32m--> 903\u001B[0m \u001B[38;5;28;43mself\u001B[39;49m\u001B[38;5;241;43m.\u001B[39;49m\u001B[43mpartial_fit\u001B[49m\u001B[43m(\u001B[49m\u001B[43mX\u001B[49m\u001B[43m,\u001B[49m\u001B[43m \u001B[49m\u001B[43my\u001B[49m\u001B[43m,\u001B[49m\u001B[43m \u001B[49m\u001B[38;5;241;43m*\u001B[39;49m\u001B[38;5;241;43m*\u001B[39;49m\u001B[43mfit_params\u001B[49m\u001B[43m)\u001B[49m\n\u001B[0;32m    904\u001B[0m \u001B[38;5;28;01mreturn\u001B[39;00m \u001B[38;5;28mself\u001B[39m\n",
      "File \u001B[1;32m~\\Documents\\suli\\MestersegesIntelligencia\\DBALwithGraphs\\DBALwithGraphs\\Lib\\site-packages\\skorch\\net.py:862\u001B[0m, in \u001B[0;36mNeuralNet.partial_fit\u001B[1;34m(self, X, y, classes, **fit_params)\u001B[0m\n\u001B[0;32m    860\u001B[0m \u001B[38;5;28mself\u001B[39m\u001B[38;5;241m.\u001B[39mnotify(\u001B[38;5;124m'\u001B[39m\u001B[38;5;124mon_train_begin\u001B[39m\u001B[38;5;124m'\u001B[39m, X\u001B[38;5;241m=\u001B[39mX, y\u001B[38;5;241m=\u001B[39my)\n\u001B[0;32m    861\u001B[0m \u001B[38;5;28;01mtry\u001B[39;00m:\n\u001B[1;32m--> 862\u001B[0m     \u001B[38;5;28;43mself\u001B[39;49m\u001B[38;5;241;43m.\u001B[39;49m\u001B[43mfit_loop\u001B[49m\u001B[43m(\u001B[49m\u001B[43mX\u001B[49m\u001B[43m,\u001B[49m\u001B[43m \u001B[49m\u001B[43my\u001B[49m\u001B[43m,\u001B[49m\u001B[43m \u001B[49m\u001B[38;5;241;43m*\u001B[39;49m\u001B[38;5;241;43m*\u001B[39;49m\u001B[43mfit_params\u001B[49m\u001B[43m)\u001B[49m\n\u001B[0;32m    863\u001B[0m \u001B[38;5;28;01mexcept\u001B[39;00m \u001B[38;5;167;01mKeyboardInterrupt\u001B[39;00m:\n\u001B[0;32m    864\u001B[0m     \u001B[38;5;28;01mpass\u001B[39;00m\n",
      "File \u001B[1;32m~\\Documents\\suli\\MestersegesIntelligencia\\DBALwithGraphs\\DBALwithGraphs\\Lib\\site-packages\\skorch\\net.py:775\u001B[0m, in \u001B[0;36mNeuralNet.fit_loop\u001B[1;34m(self, X, y, epochs, **fit_params)\u001B[0m\n\u001B[0;32m    772\u001B[0m \u001B[38;5;28;01mfor\u001B[39;00m _ \u001B[38;5;129;01min\u001B[39;00m \u001B[38;5;28mrange\u001B[39m(epochs):\n\u001B[0;32m    773\u001B[0m     \u001B[38;5;28mself\u001B[39m\u001B[38;5;241m.\u001B[39mnotify(\u001B[38;5;124m'\u001B[39m\u001B[38;5;124mon_epoch_begin\u001B[39m\u001B[38;5;124m'\u001B[39m, \u001B[38;5;241m*\u001B[39m\u001B[38;5;241m*\u001B[39mon_epoch_kwargs)\n\u001B[1;32m--> 775\u001B[0m     \u001B[38;5;28;43mself\u001B[39;49m\u001B[38;5;241;43m.\u001B[39;49m\u001B[43mrun_single_epoch\u001B[49m\u001B[43m(\u001B[49m\u001B[43mdataset_train\u001B[49m\u001B[43m,\u001B[49m\u001B[43m \u001B[49m\u001B[43mtraining\u001B[49m\u001B[38;5;241;43m=\u001B[39;49m\u001B[38;5;28;43;01mTrue\u001B[39;49;00m\u001B[43m,\u001B[49m\u001B[43m \u001B[49m\u001B[43mprefix\u001B[49m\u001B[38;5;241;43m=\u001B[39;49m\u001B[38;5;124;43m\"\u001B[39;49m\u001B[38;5;124;43mtrain\u001B[39;49m\u001B[38;5;124;43m\"\u001B[39;49m\u001B[43m,\u001B[49m\n\u001B[0;32m    776\u001B[0m \u001B[43m                          \u001B[49m\u001B[43mstep_fn\u001B[49m\u001B[38;5;241;43m=\u001B[39;49m\u001B[38;5;28;43mself\u001B[39;49m\u001B[38;5;241;43m.\u001B[39;49m\u001B[43mtrain_step\u001B[49m\u001B[43m,\u001B[49m\u001B[43m \u001B[49m\u001B[38;5;241;43m*\u001B[39;49m\u001B[38;5;241;43m*\u001B[39;49m\u001B[43mfit_params\u001B[49m\u001B[43m)\u001B[49m\n\u001B[0;32m    778\u001B[0m     \u001B[38;5;28;01mif\u001B[39;00m dataset_valid \u001B[38;5;129;01mis\u001B[39;00m \u001B[38;5;129;01mnot\u001B[39;00m \u001B[38;5;28;01mNone\u001B[39;00m:\n\u001B[0;32m    779\u001B[0m         \u001B[38;5;28mself\u001B[39m\u001B[38;5;241m.\u001B[39mrun_single_epoch(dataset_valid, training\u001B[38;5;241m=\u001B[39m\u001B[38;5;28;01mFalse\u001B[39;00m, prefix\u001B[38;5;241m=\u001B[39m\u001B[38;5;124m\"\u001B[39m\u001B[38;5;124mvalid\u001B[39m\u001B[38;5;124m\"\u001B[39m,\n\u001B[0;32m    780\u001B[0m                               step_fn\u001B[38;5;241m=\u001B[39m\u001B[38;5;28mself\u001B[39m\u001B[38;5;241m.\u001B[39mvalidation_step, \u001B[38;5;241m*\u001B[39m\u001B[38;5;241m*\u001B[39mfit_params)\n",
      "File \u001B[1;32m~\\Documents\\suli\\MestersegesIntelligencia\\DBALwithGraphs\\DBALwithGraphs\\Lib\\site-packages\\skorch\\net.py:812\u001B[0m, in \u001B[0;36mNeuralNet.run_single_epoch\u001B[1;34m(self, dataset, training, prefix, step_fn, **fit_params)\u001B[0m\n\u001B[0;32m    810\u001B[0m yi_res \u001B[38;5;241m=\u001B[39m yi \u001B[38;5;28;01mif\u001B[39;00m \u001B[38;5;129;01mnot\u001B[39;00m is_placeholder_y \u001B[38;5;28;01melse\u001B[39;00m \u001B[38;5;28;01mNone\u001B[39;00m\n\u001B[0;32m    811\u001B[0m \u001B[38;5;28mself\u001B[39m\u001B[38;5;241m.\u001B[39mnotify(\u001B[38;5;124m\"\u001B[39m\u001B[38;5;124mon_batch_begin\u001B[39m\u001B[38;5;124m\"\u001B[39m, X\u001B[38;5;241m=\u001B[39mXi, y\u001B[38;5;241m=\u001B[39myi_res, training\u001B[38;5;241m=\u001B[39mtraining)\n\u001B[1;32m--> 812\u001B[0m step \u001B[38;5;241m=\u001B[39m \u001B[43mstep_fn\u001B[49m\u001B[43m(\u001B[49m\u001B[43mXi\u001B[49m\u001B[43m,\u001B[49m\u001B[43m \u001B[49m\u001B[43myi\u001B[49m\u001B[43m,\u001B[49m\u001B[43m \u001B[49m\u001B[38;5;241;43m*\u001B[39;49m\u001B[38;5;241;43m*\u001B[39;49m\u001B[43mfit_params\u001B[49m\u001B[43m)\u001B[49m\n\u001B[0;32m    813\u001B[0m \u001B[38;5;28mself\u001B[39m\u001B[38;5;241m.\u001B[39mhistory\u001B[38;5;241m.\u001B[39mrecord_batch(prefix \u001B[38;5;241m+\u001B[39m \u001B[38;5;124m\"\u001B[39m\u001B[38;5;124m_loss\u001B[39m\u001B[38;5;124m\"\u001B[39m, step[\u001B[38;5;124m\"\u001B[39m\u001B[38;5;124mloss\u001B[39m\u001B[38;5;124m\"\u001B[39m]\u001B[38;5;241m.\u001B[39mitem())\n\u001B[0;32m    814\u001B[0m \u001B[38;5;28mself\u001B[39m\u001B[38;5;241m.\u001B[39mhistory\u001B[38;5;241m.\u001B[39mrecord_batch(prefix \u001B[38;5;241m+\u001B[39m \u001B[38;5;124m\"\u001B[39m\u001B[38;5;124m_batch_size\u001B[39m\u001B[38;5;124m\"\u001B[39m, get_len(Xi))\n",
      "File \u001B[1;32m~\\Documents\\suli\\MestersegesIntelligencia\\DBALwithGraphs\\DBALwithGraphs\\Lib\\site-packages\\skorch\\net.py:709\u001B[0m, in \u001B[0;36mNeuralNet.train_step\u001B[1;34m(self, Xi, yi, **fit_params)\u001B[0m\n\u001B[0;32m    706\u001B[0m     step_accumulator\u001B[38;5;241m.\u001B[39mstore_step(step)\n\u001B[0;32m    707\u001B[0m     \u001B[38;5;28;01mreturn\u001B[39;00m step[\u001B[38;5;124m'\u001B[39m\u001B[38;5;124mloss\u001B[39m\u001B[38;5;124m'\u001B[39m]\n\u001B[1;32m--> 709\u001B[0m \u001B[38;5;28;43mself\u001B[39;49m\u001B[38;5;241;43m.\u001B[39;49m\u001B[43moptimizer_\u001B[49m\u001B[38;5;241;43m.\u001B[39;49m\u001B[43mstep\u001B[49m\u001B[43m(\u001B[49m\u001B[43mstep_fn\u001B[49m\u001B[43m)\u001B[49m\n\u001B[0;32m    710\u001B[0m \u001B[38;5;28;01mreturn\u001B[39;00m step_accumulator\u001B[38;5;241m.\u001B[39mget_step()\n",
      "File \u001B[1;32m~\\Documents\\suli\\MestersegesIntelligencia\\DBALwithGraphs\\DBALwithGraphs\\Lib\\site-packages\\torch\\optim\\optimizer.py:391\u001B[0m, in \u001B[0;36mOptimizer.profile_hook_step.<locals>.wrapper\u001B[1;34m(*args, **kwargs)\u001B[0m\n\u001B[0;32m    386\u001B[0m         \u001B[38;5;28;01melse\u001B[39;00m:\n\u001B[0;32m    387\u001B[0m             \u001B[38;5;28;01mraise\u001B[39;00m \u001B[38;5;167;01mRuntimeError\u001B[39;00m(\n\u001B[0;32m    388\u001B[0m                 \u001B[38;5;124mf\u001B[39m\u001B[38;5;124m\"\u001B[39m\u001B[38;5;132;01m{\u001B[39;00mfunc\u001B[38;5;132;01m}\u001B[39;00m\u001B[38;5;124m must return None or a tuple of (new_args, new_kwargs), but got \u001B[39m\u001B[38;5;132;01m{\u001B[39;00mresult\u001B[38;5;132;01m}\u001B[39;00m\u001B[38;5;124m.\u001B[39m\u001B[38;5;124m\"\u001B[39m\n\u001B[0;32m    389\u001B[0m             )\n\u001B[1;32m--> 391\u001B[0m out \u001B[38;5;241m=\u001B[39m \u001B[43mfunc\u001B[49m\u001B[43m(\u001B[49m\u001B[38;5;241;43m*\u001B[39;49m\u001B[43margs\u001B[49m\u001B[43m,\u001B[49m\u001B[43m \u001B[49m\u001B[38;5;241;43m*\u001B[39;49m\u001B[38;5;241;43m*\u001B[39;49m\u001B[43mkwargs\u001B[49m\u001B[43m)\u001B[49m\n\u001B[0;32m    392\u001B[0m \u001B[38;5;28mself\u001B[39m\u001B[38;5;241m.\u001B[39m_optimizer_step_code()\n\u001B[0;32m    394\u001B[0m \u001B[38;5;66;03m# call optimizer step post hooks\u001B[39;00m\n",
      "File \u001B[1;32m~\\Documents\\suli\\MestersegesIntelligencia\\DBALwithGraphs\\DBALwithGraphs\\Lib\\site-packages\\torch\\optim\\optimizer.py:76\u001B[0m, in \u001B[0;36m_use_grad_for_differentiable.<locals>._use_grad\u001B[1;34m(self, *args, **kwargs)\u001B[0m\n\u001B[0;32m     74\u001B[0m     torch\u001B[38;5;241m.\u001B[39mset_grad_enabled(\u001B[38;5;28mself\u001B[39m\u001B[38;5;241m.\u001B[39mdefaults[\u001B[38;5;124m'\u001B[39m\u001B[38;5;124mdifferentiable\u001B[39m\u001B[38;5;124m'\u001B[39m])\n\u001B[0;32m     75\u001B[0m     torch\u001B[38;5;241m.\u001B[39m_dynamo\u001B[38;5;241m.\u001B[39mgraph_break()\n\u001B[1;32m---> 76\u001B[0m     ret \u001B[38;5;241m=\u001B[39m \u001B[43mfunc\u001B[49m\u001B[43m(\u001B[49m\u001B[38;5;28;43mself\u001B[39;49m\u001B[43m,\u001B[49m\u001B[43m \u001B[49m\u001B[38;5;241;43m*\u001B[39;49m\u001B[43margs\u001B[49m\u001B[43m,\u001B[49m\u001B[43m \u001B[49m\u001B[38;5;241;43m*\u001B[39;49m\u001B[38;5;241;43m*\u001B[39;49m\u001B[43mkwargs\u001B[49m\u001B[43m)\u001B[49m\n\u001B[0;32m     77\u001B[0m \u001B[38;5;28;01mfinally\u001B[39;00m:\n\u001B[0;32m     78\u001B[0m     torch\u001B[38;5;241m.\u001B[39m_dynamo\u001B[38;5;241m.\u001B[39mgraph_break()\n",
      "File \u001B[1;32m~\\Documents\\suli\\MestersegesIntelligencia\\DBALwithGraphs\\DBALwithGraphs\\Lib\\site-packages\\torch\\optim\\adam.py:148\u001B[0m, in \u001B[0;36mAdam.step\u001B[1;34m(self, closure)\u001B[0m\n\u001B[0;32m    146\u001B[0m \u001B[38;5;28;01mif\u001B[39;00m closure \u001B[38;5;129;01mis\u001B[39;00m \u001B[38;5;129;01mnot\u001B[39;00m \u001B[38;5;28;01mNone\u001B[39;00m:\n\u001B[0;32m    147\u001B[0m     \u001B[38;5;28;01mwith\u001B[39;00m torch\u001B[38;5;241m.\u001B[39menable_grad():\n\u001B[1;32m--> 148\u001B[0m         loss \u001B[38;5;241m=\u001B[39m \u001B[43mclosure\u001B[49m\u001B[43m(\u001B[49m\u001B[43m)\u001B[49m\n\u001B[0;32m    150\u001B[0m \u001B[38;5;28;01mfor\u001B[39;00m group \u001B[38;5;129;01min\u001B[39;00m \u001B[38;5;28mself\u001B[39m\u001B[38;5;241m.\u001B[39mparam_groups:\n\u001B[0;32m    151\u001B[0m     params_with_grad \u001B[38;5;241m=\u001B[39m []\n",
      "File \u001B[1;32m~\\Documents\\suli\\MestersegesIntelligencia\\DBALwithGraphs\\DBALwithGraphs\\Lib\\site-packages\\skorch\\net.py:705\u001B[0m, in \u001B[0;36mNeuralNet.train_step.<locals>.step_fn\u001B[1;34m()\u001B[0m\n\u001B[0;32m    703\u001B[0m \u001B[38;5;28;01mdef\u001B[39;00m \u001B[38;5;21mstep_fn\u001B[39m():\n\u001B[0;32m    704\u001B[0m     \u001B[38;5;28mself\u001B[39m\u001B[38;5;241m.\u001B[39moptimizer_\u001B[38;5;241m.\u001B[39mzero_grad()\n\u001B[1;32m--> 705\u001B[0m     step \u001B[38;5;241m=\u001B[39m \u001B[38;5;28;43mself\u001B[39;49m\u001B[38;5;241;43m.\u001B[39;49m\u001B[43mtrain_step_single\u001B[49m\u001B[43m(\u001B[49m\u001B[43mXi\u001B[49m\u001B[43m,\u001B[49m\u001B[43m \u001B[49m\u001B[43myi\u001B[49m\u001B[43m,\u001B[49m\u001B[43m \u001B[49m\u001B[38;5;241;43m*\u001B[39;49m\u001B[38;5;241;43m*\u001B[39;49m\u001B[43mfit_params\u001B[49m\u001B[43m)\u001B[49m\n\u001B[0;32m    706\u001B[0m     step_accumulator\u001B[38;5;241m.\u001B[39mstore_step(step)\n\u001B[0;32m    707\u001B[0m     \u001B[38;5;28;01mreturn\u001B[39;00m step[\u001B[38;5;124m'\u001B[39m\u001B[38;5;124mloss\u001B[39m\u001B[38;5;124m'\u001B[39m]\n",
      "File \u001B[1;32m~\\Documents\\suli\\MestersegesIntelligencia\\DBALwithGraphs\\DBALwithGraphs\\Lib\\site-packages\\skorch\\net.py:646\u001B[0m, in \u001B[0;36mNeuralNet.train_step_single\u001B[1;34m(self, Xi, yi, **fit_params)\u001B[0m\n\u001B[0;32m    644\u001B[0m \u001B[38;5;28mself\u001B[39m\u001B[38;5;241m.\u001B[39mmodule_\u001B[38;5;241m.\u001B[39mtrain()\n\u001B[0;32m    645\u001B[0m y_pred \u001B[38;5;241m=\u001B[39m \u001B[38;5;28mself\u001B[39m\u001B[38;5;241m.\u001B[39minfer(Xi, \u001B[38;5;241m*\u001B[39m\u001B[38;5;241m*\u001B[39mfit_params)\n\u001B[1;32m--> 646\u001B[0m loss \u001B[38;5;241m=\u001B[39m \u001B[38;5;28;43mself\u001B[39;49m\u001B[38;5;241;43m.\u001B[39;49m\u001B[43mget_loss\u001B[49m\u001B[43m(\u001B[49m\u001B[43my_pred\u001B[49m\u001B[43m,\u001B[49m\u001B[43m \u001B[49m\u001B[43myi\u001B[49m\u001B[43m,\u001B[49m\u001B[43m \u001B[49m\u001B[43mX\u001B[49m\u001B[38;5;241;43m=\u001B[39;49m\u001B[43mXi\u001B[49m\u001B[43m,\u001B[49m\u001B[43m \u001B[49m\u001B[43mtraining\u001B[49m\u001B[38;5;241;43m=\u001B[39;49m\u001B[38;5;28;43;01mTrue\u001B[39;49;00m\u001B[43m)\u001B[49m\n\u001B[0;32m    647\u001B[0m loss\u001B[38;5;241m.\u001B[39mbackward()\n\u001B[0;32m    649\u001B[0m \u001B[38;5;28mself\u001B[39m\u001B[38;5;241m.\u001B[39mnotify(\n\u001B[0;32m    650\u001B[0m     \u001B[38;5;124m'\u001B[39m\u001B[38;5;124mon_grad_computed\u001B[39m\u001B[38;5;124m'\u001B[39m,\n\u001B[0;32m    651\u001B[0m     named_parameters\u001B[38;5;241m=\u001B[39mTeeGenerator(\u001B[38;5;28mself\u001B[39m\u001B[38;5;241m.\u001B[39mmodule_\u001B[38;5;241m.\u001B[39mnamed_parameters()),\n\u001B[0;32m    652\u001B[0m     X\u001B[38;5;241m=\u001B[39mXi,\n\u001B[0;32m    653\u001B[0m     y\u001B[38;5;241m=\u001B[39myi\n\u001B[0;32m    654\u001B[0m )\n",
      "File \u001B[1;32m~\\Documents\\suli\\MestersegesIntelligencia\\DBALwithGraphs\\DBALwithGraphs\\Lib\\site-packages\\skorch\\classifier.py:127\u001B[0m, in \u001B[0;36mNeuralNetClassifier.get_loss\u001B[1;34m(self, y_pred, y_true, *args, **kwargs)\u001B[0m\n\u001B[0;32m    125\u001B[0m     eps \u001B[38;5;241m=\u001B[39m torch\u001B[38;5;241m.\u001B[39mfinfo(y_pred\u001B[38;5;241m.\u001B[39mdtype)\u001B[38;5;241m.\u001B[39meps\n\u001B[0;32m    126\u001B[0m     y_pred \u001B[38;5;241m=\u001B[39m torch\u001B[38;5;241m.\u001B[39mlog(y_pred \u001B[38;5;241m+\u001B[39m eps)\n\u001B[1;32m--> 127\u001B[0m \u001B[38;5;28;01mreturn\u001B[39;00m \u001B[38;5;28;43msuper\u001B[39;49m\u001B[43m(\u001B[49m\u001B[43m)\u001B[49m\u001B[38;5;241;43m.\u001B[39;49m\u001B[43mget_loss\u001B[49m\u001B[43m(\u001B[49m\u001B[43my_pred\u001B[49m\u001B[43m,\u001B[49m\u001B[43m \u001B[49m\u001B[43my_true\u001B[49m\u001B[43m,\u001B[49m\u001B[43m \u001B[49m\u001B[38;5;241;43m*\u001B[39;49m\u001B[43margs\u001B[49m\u001B[43m,\u001B[49m\u001B[43m \u001B[49m\u001B[38;5;241;43m*\u001B[39;49m\u001B[38;5;241;43m*\u001B[39;49m\u001B[43mkwargs\u001B[49m\u001B[43m)\u001B[49m\n",
      "File \u001B[1;32m~\\Documents\\suli\\MestersegesIntelligencia\\DBALwithGraphs\\DBALwithGraphs\\Lib\\site-packages\\skorch\\net.py:1196\u001B[0m, in \u001B[0;36mNeuralNet.get_loss\u001B[1;34m(self, y_pred, y_true, X, training)\u001B[0m\n\u001B[0;32m   1193\u001B[0m \u001B[38;5;28;01mif\u001B[39;00m \u001B[38;5;28misinstance\u001B[39m(\u001B[38;5;28mself\u001B[39m\u001B[38;5;241m.\u001B[39mcriterion_, torch\u001B[38;5;241m.\u001B[39mnn\u001B[38;5;241m.\u001B[39mModule):\n\u001B[0;32m   1194\u001B[0m     \u001B[38;5;28mself\u001B[39m\u001B[38;5;241m.\u001B[39mcriterion_\u001B[38;5;241m.\u001B[39mtrain(training)\n\u001B[1;32m-> 1196\u001B[0m \u001B[38;5;28;01mreturn\u001B[39;00m \u001B[38;5;28;43mself\u001B[39;49m\u001B[38;5;241;43m.\u001B[39;49m\u001B[43mcriterion_\u001B[49m\u001B[43m(\u001B[49m\u001B[43my_pred\u001B[49m\u001B[43m,\u001B[49m\u001B[43m \u001B[49m\u001B[43my_true\u001B[49m\u001B[43m)\u001B[49m\n",
      "File \u001B[1;32m~\\Documents\\suli\\MestersegesIntelligencia\\DBALwithGraphs\\DBALwithGraphs\\Lib\\site-packages\\torch\\nn\\modules\\module.py:1532\u001B[0m, in \u001B[0;36mModule._wrapped_call_impl\u001B[1;34m(self, *args, **kwargs)\u001B[0m\n\u001B[0;32m   1530\u001B[0m     \u001B[38;5;28;01mreturn\u001B[39;00m \u001B[38;5;28mself\u001B[39m\u001B[38;5;241m.\u001B[39m_compiled_call_impl(\u001B[38;5;241m*\u001B[39margs, \u001B[38;5;241m*\u001B[39m\u001B[38;5;241m*\u001B[39mkwargs)  \u001B[38;5;66;03m# type: ignore[misc]\u001B[39;00m\n\u001B[0;32m   1531\u001B[0m \u001B[38;5;28;01melse\u001B[39;00m:\n\u001B[1;32m-> 1532\u001B[0m     \u001B[38;5;28;01mreturn\u001B[39;00m \u001B[38;5;28;43mself\u001B[39;49m\u001B[38;5;241;43m.\u001B[39;49m\u001B[43m_call_impl\u001B[49m\u001B[43m(\u001B[49m\u001B[38;5;241;43m*\u001B[39;49m\u001B[43margs\u001B[49m\u001B[43m,\u001B[49m\u001B[43m \u001B[49m\u001B[38;5;241;43m*\u001B[39;49m\u001B[38;5;241;43m*\u001B[39;49m\u001B[43mkwargs\u001B[49m\u001B[43m)\u001B[49m\n",
      "File \u001B[1;32m~\\Documents\\suli\\MestersegesIntelligencia\\DBALwithGraphs\\DBALwithGraphs\\Lib\\site-packages\\torch\\nn\\modules\\module.py:1541\u001B[0m, in \u001B[0;36mModule._call_impl\u001B[1;34m(self, *args, **kwargs)\u001B[0m\n\u001B[0;32m   1536\u001B[0m \u001B[38;5;66;03m# If we don't have any hooks, we want to skip the rest of the logic in\u001B[39;00m\n\u001B[0;32m   1537\u001B[0m \u001B[38;5;66;03m# this function, and just call forward.\u001B[39;00m\n\u001B[0;32m   1538\u001B[0m \u001B[38;5;28;01mif\u001B[39;00m \u001B[38;5;129;01mnot\u001B[39;00m (\u001B[38;5;28mself\u001B[39m\u001B[38;5;241m.\u001B[39m_backward_hooks \u001B[38;5;129;01mor\u001B[39;00m \u001B[38;5;28mself\u001B[39m\u001B[38;5;241m.\u001B[39m_backward_pre_hooks \u001B[38;5;129;01mor\u001B[39;00m \u001B[38;5;28mself\u001B[39m\u001B[38;5;241m.\u001B[39m_forward_hooks \u001B[38;5;129;01mor\u001B[39;00m \u001B[38;5;28mself\u001B[39m\u001B[38;5;241m.\u001B[39m_forward_pre_hooks\n\u001B[0;32m   1539\u001B[0m         \u001B[38;5;129;01mor\u001B[39;00m _global_backward_pre_hooks \u001B[38;5;129;01mor\u001B[39;00m _global_backward_hooks\n\u001B[0;32m   1540\u001B[0m         \u001B[38;5;129;01mor\u001B[39;00m _global_forward_hooks \u001B[38;5;129;01mor\u001B[39;00m _global_forward_pre_hooks):\n\u001B[1;32m-> 1541\u001B[0m     \u001B[38;5;28;01mreturn\u001B[39;00m \u001B[43mforward_call\u001B[49m\u001B[43m(\u001B[49m\u001B[38;5;241;43m*\u001B[39;49m\u001B[43margs\u001B[49m\u001B[43m,\u001B[49m\u001B[43m \u001B[49m\u001B[38;5;241;43m*\u001B[39;49m\u001B[38;5;241;43m*\u001B[39;49m\u001B[43mkwargs\u001B[49m\u001B[43m)\u001B[49m\n\u001B[0;32m   1543\u001B[0m \u001B[38;5;28;01mtry\u001B[39;00m:\n\u001B[0;32m   1544\u001B[0m     result \u001B[38;5;241m=\u001B[39m \u001B[38;5;28;01mNone\u001B[39;00m\n",
      "File \u001B[1;32m~\\Documents\\suli\\MestersegesIntelligencia\\DBALwithGraphs\\DBALwithGraphs\\Lib\\site-packages\\torch\\nn\\modules\\loss.py:1185\u001B[0m, in \u001B[0;36mCrossEntropyLoss.forward\u001B[1;34m(self, input, target)\u001B[0m\n\u001B[0;32m   1184\u001B[0m \u001B[38;5;28;01mdef\u001B[39;00m \u001B[38;5;21mforward\u001B[39m(\u001B[38;5;28mself\u001B[39m, \u001B[38;5;28minput\u001B[39m: Tensor, target: Tensor) \u001B[38;5;241m-\u001B[39m\u001B[38;5;241m>\u001B[39m Tensor:\n\u001B[1;32m-> 1185\u001B[0m     \u001B[38;5;28;01mreturn\u001B[39;00m \u001B[43mF\u001B[49m\u001B[38;5;241;43m.\u001B[39;49m\u001B[43mcross_entropy\u001B[49m\u001B[43m(\u001B[49m\u001B[38;5;28;43minput\u001B[39;49m\u001B[43m,\u001B[49m\u001B[43m \u001B[49m\u001B[43mtarget\u001B[49m\u001B[43m,\u001B[49m\u001B[43m \u001B[49m\u001B[43mweight\u001B[49m\u001B[38;5;241;43m=\u001B[39;49m\u001B[38;5;28;43mself\u001B[39;49m\u001B[38;5;241;43m.\u001B[39;49m\u001B[43mweight\u001B[49m\u001B[43m,\u001B[49m\n\u001B[0;32m   1186\u001B[0m \u001B[43m                           \u001B[49m\u001B[43mignore_index\u001B[49m\u001B[38;5;241;43m=\u001B[39;49m\u001B[38;5;28;43mself\u001B[39;49m\u001B[38;5;241;43m.\u001B[39;49m\u001B[43mignore_index\u001B[49m\u001B[43m,\u001B[49m\u001B[43m \u001B[49m\u001B[43mreduction\u001B[49m\u001B[38;5;241;43m=\u001B[39;49m\u001B[38;5;28;43mself\u001B[39;49m\u001B[38;5;241;43m.\u001B[39;49m\u001B[43mreduction\u001B[49m\u001B[43m,\u001B[49m\n\u001B[0;32m   1187\u001B[0m \u001B[43m                           \u001B[49m\u001B[43mlabel_smoothing\u001B[49m\u001B[38;5;241;43m=\u001B[39;49m\u001B[38;5;28;43mself\u001B[39;49m\u001B[38;5;241;43m.\u001B[39;49m\u001B[43mlabel_smoothing\u001B[49m\u001B[43m)\u001B[49m\n",
      "File \u001B[1;32m~\\Documents\\suli\\MestersegesIntelligencia\\DBALwithGraphs\\DBALwithGraphs\\Lib\\site-packages\\torch\\nn\\functional.py:3086\u001B[0m, in \u001B[0;36mcross_entropy\u001B[1;34m(input, target, weight, size_average, ignore_index, reduce, reduction, label_smoothing)\u001B[0m\n\u001B[0;32m   3084\u001B[0m \u001B[38;5;28;01mif\u001B[39;00m size_average \u001B[38;5;129;01mis\u001B[39;00m \u001B[38;5;129;01mnot\u001B[39;00m \u001B[38;5;28;01mNone\u001B[39;00m \u001B[38;5;129;01mor\u001B[39;00m reduce \u001B[38;5;129;01mis\u001B[39;00m \u001B[38;5;129;01mnot\u001B[39;00m \u001B[38;5;28;01mNone\u001B[39;00m:\n\u001B[0;32m   3085\u001B[0m     reduction \u001B[38;5;241m=\u001B[39m _Reduction\u001B[38;5;241m.\u001B[39mlegacy_get_string(size_average, reduce)\n\u001B[1;32m-> 3086\u001B[0m \u001B[38;5;28;01mreturn\u001B[39;00m \u001B[43mtorch\u001B[49m\u001B[38;5;241;43m.\u001B[39;49m\u001B[43m_C\u001B[49m\u001B[38;5;241;43m.\u001B[39;49m\u001B[43m_nn\u001B[49m\u001B[38;5;241;43m.\u001B[39;49m\u001B[43mcross_entropy_loss\u001B[49m\u001B[43m(\u001B[49m\u001B[38;5;28;43minput\u001B[39;49m\u001B[43m,\u001B[49m\u001B[43m \u001B[49m\u001B[43mtarget\u001B[49m\u001B[43m,\u001B[49m\u001B[43m \u001B[49m\u001B[43mweight\u001B[49m\u001B[43m,\u001B[49m\u001B[43m \u001B[49m\u001B[43m_Reduction\u001B[49m\u001B[38;5;241;43m.\u001B[39;49m\u001B[43mget_enum\u001B[49m\u001B[43m(\u001B[49m\u001B[43mreduction\u001B[49m\u001B[43m)\u001B[49m\u001B[43m,\u001B[49m\u001B[43m \u001B[49m\u001B[43mignore_index\u001B[49m\u001B[43m,\u001B[49m\u001B[43m \u001B[49m\u001B[43mlabel_smoothing\u001B[49m\u001B[43m)\u001B[49m\n",
      "\u001B[1;31mRuntimeError\u001B[0m: \"nll_loss_forward_reduce_cuda_kernel_2d_index\" not implemented for 'Int'"
     ]
    }
   ]
  },
  {
   "cell_type": "markdown",
   "metadata": {
    "id": "ICiCuHD0Ffu7"
   },
   "source": [
    "## 4.1 Plot Deep Bayesian Active Learning Results"
   ]
  },
  {
   "cell_type": "code",
   "metadata": {
    "id": "cGZX8-H0FPzN",
    "ExecuteTime": {
     "end_time": "2024-05-14T10:46:16.368996Z",
     "start_time": "2024-05-14T10:46:16.368996Z"
    }
   },
   "source": [
    "plot_results(data=results)"
   ],
   "execution_count": null,
   "outputs": []
  },
  {
   "cell_type": "markdown",
   "metadata": {
    "id": "fbIC-jFGFNze"
   },
   "source": [
    "## 5.0 MBR - Kernel Matrix (W) \n",
    "Use 20 initial datapoints."
   ]
  },
  {
   "cell_type": "code",
   "metadata": {
    "id": "AWtIMq2XGMhE",
    "ExecuteTime": {
     "start_time": "2024-05-14T10:46:16.378594700Z"
    }
   },
   "source": [
    "from sklearn.metrics.pairwise import rbf_kernel\n",
    "\n",
    "\n",
    "def kernel_matrix(X_datapoints):\n",
    "    X_datapoints = X_datapoints.reshape(X_datapoints.shape[0], -1)\n",
    "    W = rbf_kernel(X_datapoints, X_datapoints)\n",
    "    return W"
   ],
   "execution_count": null,
   "outputs": []
  },
  {
   "cell_type": "markdown",
   "metadata": {
    "id": "kURUcSACHRLt"
   },
   "source": [
    "## 5.1 MBR - Combinatorial Laplacian (Delta)"
   ]
  },
  {
   "cell_type": "code",
   "metadata": {
    "id": "To1syK-QHGBJ",
    "ExecuteTime": {
     "start_time": "2024-05-14T10:46:16.378594700Z"
    }
   },
   "source": [
    "def combinatorial_laplacian(W):\n",
    "    \"\"\"Compute the combinatorial laplacian given edge weight matrix W\"\"\"\n",
    "    # the degree matrix -- sum up edge weights for each node\n",
    "    D = np.diag(np.sum(W, axis=1))\n",
    "\n",
    "    # the combinatorial laplacian\n",
    "    Delta = D - W\n",
    "    return Delta\n",
    "\n",
    "\n",
    "def to_categorical(y, num_classes=2):\n",
    "    \"\"\"1-hot encodes a tensor\"\"\"\n",
    "    return np.eye(num_classes, dtype=\"uint8\")[y]"
   ],
   "execution_count": null,
   "outputs": []
  },
  {
   "cell_type": "markdown",
   "metadata": {
    "id": "eXw0T1yUIMZU"
   },
   "source": [
    "## 5.2 MBR - Harmonic Function"
   ]
  },
  {
   "cell_type": "code",
   "metadata": {
    "id": "mD2FliUkoJEj",
    "ExecuteTime": {
     "start_time": "2024-05-14T10:46:16.378594700Z"
    }
   },
   "source": [
    "def harmonic_function(X_train, y_train, Delta):\n",
    "    Delta_ll = Delta[0 : X_train.shape[0], 0 : X_train.shape[0]]\n",
    "    Delta_ul = Delta[X_train.shape[0] :, 0 : X_train.shape[0]]\n",
    "    Delta_lu = Delta[0 : X_train.shape[0], X_train.shape[0] :]\n",
    "    Delta_uu = Delta[X_train.shape[0] :, X_train.shape[0] :]\n",
    "\n",
    "    inv_Delta_uu = np.linalg.pinv(Delta_uu)\n",
    "    Original_f_L = y_train\n",
    "    Delta_mult = np.dot(inv_Delta_uu, Delta_ul)\n",
    "    Original_f_U = -np.dot(Delta_mult, Original_f_L)\n",
    "\n",
    "    # f_I is the entire harmonic function over all the data points (U + L)\n",
    "    Original_f_I = np.concatenate((Original_f_L, Original_f_U), axis=0)\n",
    "    return Original_f_I, Original_f_L"
   ],
   "execution_count": null,
   "outputs": []
  },
  {
   "cell_type": "markdown",
   "metadata": {
    "id": "NMwfHYyGpWa-"
   },
   "source": [
    "## 5.3 Compute Bayes Risk"
   ]
  },
  {
   "cell_type": "code",
   "metadata": {
    "id": "afLxfwIkpZto",
    "ExecuteTime": {
     "start_time": "2024-05-14T10:46:16.388636800Z"
    }
   },
   "source": [
    "def minimum_bayes_risk(\n",
    "    model, X_pool, y_pool, X_train, y_train, Delta, n_query, Original_f_I, Original_f_L\n",
    "):\n",
    "    \"\"\"Compute Bayes Risk for all pool points in acquisition iteration\"\"\"\n",
    "    pool_subset_idx = np.random.choice(range(len(X_pool)), size=1000, replace=False)\n",
    "    X_pool_points = X_pool[pool_subset_idx]\n",
    "    y_pool_points = y_pool[pool_subset_idx]\n",
    "    X_train_temp = np.concatenate((X_train, X_pool_points), axis=0)\n",
    "    y_train_temp = np.concatenate((y_train, y_pool_points), axis=0)\n",
    "    X_pool_temp = np.delete(X_pool, pool_subset_idx, axis=0)\n",
    "\n",
    "    f_I, f_l = harmonic_function(X_train_temp, y_train_temp, Delta)\n",
    "\n",
    "    # Compute new estimate Bayes Risk\n",
    "    R = np.array([0])\n",
    "    for m in range(f_I.shape[0]):\n",
    "        val_f_I = f_I[m]\n",
    "        other_val_f_I = 1 - val_f_I\n",
    "        min_val = np.amin(np.array([val_f_I, other_val_f_I]))\n",
    "        R = R + min_val\n",
    "    Estimated_Risk = R\n",
    "\n",
    "    # we need f_k values for each pool point in consideration\n",
    "    f_All_Pool = Original_f_I[Original_f_L.shape[0] :]\n",
    "    f_k = f_All_Pool[500]\n",
    "    Bayes_Risk = (1 - f_k) * Estimated_Risk + (f_k) * Estimated_Risk\n",
    "\n",
    "    query_idx = np.argsort(Bayes_Risk.flatten())[-n_query:]\n",
    "    return query_idx, X_pool[query_idx]"
   ],
   "execution_count": null,
   "outputs": []
  },
  {
   "cell_type": "markdown",
   "metadata": {
    "id": "9U94Gf1GTGEO"
   },
   "source": [
    "## 6.0 Define MBR Procedure"
   ]
  },
  {
   "cell_type": "code",
   "metadata": {
    "id": "636z7BTRWr3P",
    "ExecuteTime": {
     "start_time": "2024-05-14T10:46:16.388636800Z"
    }
   },
   "source": [
    "def MBR_procedure(\n",
    "    X_val: np.ndarray,\n",
    "    y_val: np.ndarray,\n",
    "    X_test: np.ndarray,\n",
    "    y_test: np.ndarray,\n",
    "    X_pool: np.ndarray,\n",
    "    y_pool: np.ndarray,\n",
    "    X_train: np.ndarray,\n",
    "    y_train: np.ndarray,\n",
    "    X_init: np.ndarray,\n",
    "    y_init: np.ndarray,\n",
    "    estimator,\n",
    "    T: int = 100,\n",
    "    n_query: int = 10,\n",
    "    query_strategy=minimum_bayes_risk,\n",
    "):\n",
    "    \"\"\"MBR Procedure\n",
    "    Attributes:\n",
    "        X_val, y_val: Validation dataset,\n",
    "        X_test, y_test: Test dataset,\n",
    "        X_pool, y_pool: Query pool set,\n",
    "        X_train, y_train: Training set,\n",
    "        X_init, y_init: Initial training set,\n",
    "        estimator: Neural Network architecture, e.g. CNN,\n",
    "        T: Number of iterations (repeat acqusition process T times),\n",
    "        n_query: Number of points to query from X_pool,\n",
    "        query_strategy: MBR to query points from pool\n",
    "    \"\"\"\n",
    "    learner = ActiveLearner(\n",
    "        estimator=estimator,\n",
    "        X_training=X_init,\n",
    "        y_training=y_init,\n",
    "        query_strategy=query_strategy,\n",
    "    )\n",
    "    perf_hist = [learner.score(X_test, y_test)]\n",
    "\n",
    "    X_train_pool = np.concatenate((X_train, X_pool), axis=0)\n",
    "    W = kernel_matrix(X_train_pool)\n",
    "    delta = combinatorial_laplacian(W)\n",
    "    print(f\"Delta shape: {delta.shape} (n*n)\")\n",
    "\n",
    "    original_f_I, original_f_L = harmonic_function(X_train, y_train, delta)\n",
    "\n",
    "    for index in range(T):\n",
    "        query_idx, query_instance = learner.query(\n",
    "            X_pool=X_pool,\n",
    "            y_pool=y_pool,\n",
    "            X_train=X_train,\n",
    "            y_train=y_train,\n",
    "            Delta=delta,\n",
    "            Original_f_I=original_f_I,\n",
    "            Original_f_L=original_f_L,\n",
    "            n_query=10,\n",
    "        )\n",
    "        learner.teach(X_pool[query_idx], y_pool[query_idx])\n",
    "        X_train = np.concatenate((X_train, X_pool[query_idx]), axis=0)\n",
    "        y_train = np.concatenate((y_train, y_pool[query_idx]), axis=0)\n",
    "        X_pool = np.delete(X_pool, query_idx, axis=0)\n",
    "        y_pool = np.delete(y_pool, query_idx, axis=0)\n",
    "\n",
    "        model_accuracy_val = learner.score(X_val, y_val)\n",
    "        if (index + 1) % 5 == 0:\n",
    "            print(f\"Val Accuracy after iteration {index+1}: {model_accuracy_val:0.4f}\")\n",
    "        perf_hist.append(model_accuracy_val)\n",
    "    model_accuracy_test = learner.score(X_test, y_test)\n",
    "    print(f\"********** Test Accuracy per experiment: {model_accuracy_test} **********\")\n",
    "    return perf_hist, model_accuracy_test"
   ],
   "execution_count": null,
   "outputs": []
  },
  {
   "cell_type": "markdown",
   "metadata": {
    "id": "cTV5x8lnRDiw"
   },
   "source": [
    "## 6.1 Choose 3 different pool dataset"
   ]
  },
  {
   "cell_type": "code",
   "metadata": {
    "colab": {
     "base_uri": "https://localhost:8080/"
    },
    "id": "I3cD9tSpEN9l",
    "outputId": "c8ee807f-61f1-44a2-bb24-08a42f79dddf",
    "ExecuteTime": {
     "start_time": "2024-05-14T10:46:16.388636800Z"
    }
   },
   "source": [
    "X_pool_1 = X_pool[:2000]\n",
    "y_pool_1 = y_pool[:2000]\n",
    "X_pool_2 = X_pool[6000:8000]\n",
    "y_pool_2 = y_pool[6000:8000]\n",
    "X_pool_3 = X_pool[10000:12000]\n",
    "y_pool_3 = y_pool[10000:12000]\n",
    "\n",
    "\n",
    "X_pool_list = [X_pool_1, X_pool_2, X_pool_3]\n",
    "y_pool_list = [y_pool_1, y_pool_2, y_pool_3]\n",
    "print(len(X_pool_list))\n",
    "print(X_pool_list[2].shape)"
   ],
   "execution_count": null,
   "outputs": []
  },
  {
   "cell_type": "markdown",
   "metadata": {
    "id": "NA-AIiJBRKR9"
   },
   "source": [
    "## 7.0 Start MBR Training"
   ]
  },
  {
   "cell_type": "code",
   "metadata": {
    "colab": {
     "base_uri": "https://localhost:8080/"
    },
    "id": "9Z_9nbIt0xCq",
    "outputId": "c0444922-bbb4-4d64-a56a-38cb222e0ac9",
    "ExecuteTime": {
     "end_time": "2024-05-14T10:46:16.388636800Z",
     "start_time": "2024-05-14T10:46:16.388636800Z"
    }
   },
   "source": [
    "print(f\"Using X_pool size of: {X_pool_1.shape}, {len(X_pool_list)} sets.\")\n",
    "avg_hist = []\n",
    "\n",
    "for e in range(3):\n",
    "    estimator = load_CNN_model()\n",
    "    print(f\"Done load model!\")\n",
    "    X_pool = X_pool_list[e]\n",
    "    y_pool = y_pool_list[e]\n",
    "    start_time = time.time()\n",
    "    hist, acc = MBR_procedure(\n",
    "        X_val=X_val,\n",
    "        y_val=y_val,\n",
    "        X_test=X_test,\n",
    "        y_test=y_test,\n",
    "        X_pool=X_pool,\n",
    "        y_pool=y_pool,\n",
    "        X_train=X_init,\n",
    "        y_train=y_init,\n",
    "        X_init=X_init,\n",
    "        y_init=y_init,\n",
    "        estimator=estimator,\n",
    "    )\n",
    "    print_elapsed_time(start_time=start_time, exp=e + 1, acq_func=\"MBR\")\n",
    "    avg_hist.append(hist)\n",
    "\n",
    "result = np.mean(np.array(avg_hist), axis=0)"
   ],
   "execution_count": null,
   "outputs": []
  },
  {
   "cell_type": "code",
   "metadata": {
    "id": "eRBUf1l99rfe",
    "ExecuteTime": {
     "start_time": "2024-05-14T10:46:16.388636800Z"
    }
   },
   "source": [
    "uniform = np.load(\"result_npy/uniform.npy\")\n",
    "bald = np.load(\"result_npy/bald.npy\")\n",
    "max_entropy = np.load(\"result_npy/max_entropy.npy\")\n",
    "var_ratios = np.load(\"result_npy/var_ratios.npy\")"
   ],
   "execution_count": null,
   "outputs": []
  },
  {
   "cell_type": "code",
   "metadata": {
    "colab": {
     "base_uri": "https://localhost:8080/",
     "height": 324
    },
    "id": "pXTjMwyl9zuG",
    "outputId": "8da333d9-30c1-471e-ed61-77066ac5e3e4",
    "ExecuteTime": {
     "start_time": "2024-05-14T10:46:16.388636800Z"
    }
   },
   "source": [
    "sns.set()\n",
    "plt.figure(figsize=(7, 5))\n",
    "\n",
    "result = gaussian_filter1d(result, sigma=0.2)  # for smoother graph\n",
    "uniform = gaussian_filter1d(uniform, sigma=0.2)\n",
    "bald = gaussian_filter1d(bald, sigma=0.2)\n",
    "max_entropy = gaussian_filter1d(max_entropy, sigma=0.2)\n",
    "var_ratios = gaussian_filter1d(var_ratios, sigma=0.2)\n",
    "\n",
    "plt.plot(result, label=\"MBR\")\n",
    "plt.plot(uniform, label=\"Random\")\n",
    "plt.plot(bald, label=\"BALD\")\n",
    "plt.plot(max_entropy, label=\"Max Entropy\")\n",
    "plt.plot(var_ratios, label=\"Var Ratios\")\n",
    "\n",
    "plt.ylim([0.90, 1])\n",
    "plt.legend()\n",
    "plt.show()"
   ],
   "execution_count": null,
   "outputs": []
  },
  {
   "cell_type": "code",
   "metadata": {
    "id": "JXaflhmkC4Ew",
    "ExecuteTime": {
     "end_time": "2024-05-14T10:46:16.398724900Z",
     "start_time": "2024-05-14T10:46:16.398642Z"
    }
   },
   "source": [],
   "execution_count": null,
   "outputs": []
  }
 ]
}
