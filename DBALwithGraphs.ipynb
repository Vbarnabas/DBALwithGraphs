{
 "cells": [
  {
   "cell_type": "code",
   "execution_count": 632,
   "outputs": [
    {
     "name": "stdout",
     "output_type": "stream",
     "text": [
      "Using device: cuda\n"
     ]
    }
   ],
   "source": [
    "from torch.utils.data import random_split\n",
    "from torch_geometric.datasets import TUDataset\n",
    "from torch_geometric.data import DataLoader\n",
    "import torch\n",
    "\n",
    "\n",
    "epochs=200\n",
    "device = torch.device(\"cuda\" if torch.cuda.is_available() else \"cpu\")\n",
    "print(f\"Using device: {device}\")\n",
    "def load_tu_data(dataset_name='PROTEINS', use_node_attr=True, initial_per_class=50):\n",
    "    dataset = TUDataset(root='/tmp/' + dataset_name, name=dataset_name, use_node_attr=use_node_attr)\n",
    "\n",
    "    num_classes = dataset.num_classes\n",
    "    num_node_features = dataset.num_features\n",
    "    \n",
    "    class_counters = {i: 0 for i in range(num_classes)}\n",
    "    initial_indices = []\n",
    "    indices = torch.randperm(len(dataset))\n",
    "    \n",
    "    for idx in indices:\n",
    "        label = dataset[idx].y.item()\n",
    "        if(class_counters[label]<initial_per_class):\n",
    "            initial_indices.append(idx)\n",
    "            class_counters[label]+=1\n",
    "        if all(count >= initial_per_class for count in class_counters.values()):\n",
    "            break\n",
    "\n",
    "    remaining_indices = [i for i in indices if i not in initial_indices]\n",
    "    num_totalinit = len(remaining_indices)\n",
    "    num_train = int(num_totalinit * 0.3)\n",
    "    num_val = int(num_totalinit * 0.1)\n",
    "    num_test = int(num_totalinit * 0.1)\n",
    "    num_pool = num_totalinit - num_train - num_val - num_test\n",
    "\n",
    "    train_indices = remaining_indices[:num_train]\n",
    "    val_indices = remaining_indices[num_train:num_train + num_val]\n",
    "    test_indices = remaining_indices[num_train + num_val:num_train + num_val + num_test]\n",
    "    pool_indices = remaining_indices[num_train + num_val + num_test:]\n",
    "\n",
    "    return dataset, initial_indices, train_indices, val_indices, test_indices, pool_indices, num_classes, num_node_features\n"
   ],
   "metadata": {
    "collapsed": false,
    "ExecuteTime": {
     "end_time": "2024-05-28T01:55:26.323172200Z",
     "start_time": "2024-05-28T01:55:26.065814Z"
    }
   },
   "id": "a20cc50dc2ad9948"
  },
  {
   "cell_type": "markdown",
   "source": [
    "Indice alapján Data Loader"
   ],
   "metadata": {
    "collapsed": false
   },
   "id": "73c7a75eec7088aa"
  },
  {
   "cell_type": "code",
   "execution_count": 633,
   "outputs": [],
   "source": [
    "def create_data_loader(dataset, indices, batch_size=10, shuffle=True):\n",
    "    subset = torch.utils.data.Subset(dataset, indices)\n",
    "    return DataLoader(subset, batch_size=batch_size, shuffle=shuffle)\n",
    "\n",
    "def update_indices(train_indices, pool_indices, selected_pool_indices):\n",
    "    \"\"\"\n",
    "    Update training and pool indices after selecting some indices from the pool.\n",
    "    \n",
    "    Args:\n",
    "        train_indices (list): Current list of training indices.\n",
    "        pool_indices (list): Current list of pool indices.\n",
    "        selected_pool_indices (list): Indices selected from the pool to be moved to training.\n",
    "    \n",
    "    Returns:\n",
    "        tuple: Updated lists of train and pool indices.\n",
    "    \"\"\"\n",
    "    # Ensure all are lists\n",
    "    train_indices = list(train_indices)\n",
    "    selected_pool_indices = list(selected_pool_indices)\n",
    "\n",
    "    # Add selected indices to train indices\n",
    "    new_train_indices = train_indices + selected_pool_indices\n",
    "\n",
    "    # Remove the selected indices from pool indices\n",
    "    new_pool_indices = [idx for idx in pool_indices if idx not in selected_pool_indices]\n",
    "\n",
    "    return new_train_indices, new_pool_indices\n",
    "\n"
   ],
   "metadata": {
    "collapsed": false,
    "ExecuteTime": {
     "end_time": "2024-05-28T01:55:26.386879100Z",
     "start_time": "2024-05-28T01:55:26.082395900Z"
    }
   },
   "id": "f705bf422b0873f5"
  },
  {
   "cell_type": "code",
   "execution_count": 634,
   "outputs": [],
   "source": [
    "import torch\n",
    "import torch.nn.functional as F\n",
    "from torch_geometric.nn import GCNConv, global_mean_pool\n",
    "\n",
    "\n",
    "class GNN(torch.nn.Module):\n",
    "    def __init__(self, num_node_features, num_classes, hidden_channels=256):\n",
    "        super(GNN, self).__init__()\n",
    "        self.conv1 = GCNConv(num_node_features, hidden_channels)\n",
    "        self.conv2 = GCNConv(hidden_channels, hidden_channels)\n",
    "        self.out = torch.nn.Linear(hidden_channels, num_classes)\n",
    "\n",
    "    def forward(self, data):\n",
    "        x, edge_index, edge_attr, batch = data.x, data.edge_index, data.edge_attr, data.batch\n",
    "        x = self.conv1(x, edge_index)\n",
    "        x = F.relu(x)\n",
    "        x = torch.nn.functional.dropout(x, p=0.25, training=True)\n",
    "        x = self.conv2(x, edge_index)\n",
    "        x = F.relu(x)\n",
    "        x = torch.nn.functional.dropout(x, p=0.5, training=True)\n",
    "        x = self.conv2(x, edge_index)\n",
    "        x = F.relu(x)\n",
    "        x = torch.nn.functional.dropout(x, p=0.5, training=True)\n",
    "        x = self.conv2(x, edge_index)\n",
    "        x = F.relu(x)\n",
    "        x = torch.nn.functional.dropout(x, p=0.5, training=True)\n",
    "        x = self.conv2(x, edge_index)\n",
    "        x = F.relu(x)\n",
    "        x = torch.nn.functional.dropout(x, p=0.5, training=True)\n",
    "        # Global mean pooling\n",
    "        x = global_mean_pool(x, batch)  # Aggregate node features to graph features\n",
    "        x = self.out(x)\n",
    "        return F.log_softmax(x, dim=1)"
   ],
   "metadata": {
    "collapsed": false,
    "ExecuteTime": {
     "end_time": "2024-05-28T01:55:26.515485200Z",
     "start_time": "2024-05-28T01:55:26.096401Z"
    }
   },
   "id": "83e416079edf0253"
  },
  {
   "cell_type": "markdown",
   "source": [
    "Uniform Acquisition function"
   ],
   "metadata": {
    "collapsed": false
   },
   "id": "a646e28150e15ae7"
  },
  {
   "cell_type": "code",
   "execution_count": 635,
   "outputs": [],
   "source": [
    "import numpy as np\n",
    "\n",
    "def uniform(model, dataset, pool_indices, n_query, T=100, training=True):\n",
    "    \"\"\"\n",
    "    Uniformly random selection of data points from the unlabeled pool.\n",
    "    \n",
    "    Args:\n",
    "    pool_indices (list): List of indices available in the pool.\n",
    "    n_query (int): Number of queries to make.\n",
    "    \n",
    "    Returns:\n",
    "    list: Indices of the selected data points.\n",
    "    \"\"\"\n",
    "    # Directly use the pool_indices to select data points\n",
    "    selected_indices = np.random.choice(pool_indices, size=n_query, replace=False)\n",
    "    \n",
    "    return selected_indices.tolist()\n"
   ],
   "metadata": {
    "collapsed": false,
    "ExecuteTime": {
     "end_time": "2024-05-28T01:55:26.542579500Z",
     "start_time": "2024-05-28T01:55:26.106592700Z"
    }
   },
   "id": "746a13411f73ad02"
  },
  {
   "cell_type": "markdown",
   "source": [
    "Initial training"
   ],
   "metadata": {
    "collapsed": false
   },
   "id": "68265fee36007e1"
  },
  {
   "cell_type": "code",
   "execution_count": 636,
   "outputs": [],
   "source": [
    "\n",
    "def create_initial_data_loader(dataset, num_initial, batch_size=10):\n",
    "    indices = torch.randperm(len(dataset))[:num_initial]\n",
    "    subset = torch.utils.data.Subset(dataset, indices.tolist())\n",
    "    loader = DataLoader(subset, batch_size=batch_size, shuffle=True)\n",
    "    return loader, indices\n",
    "\n",
    "\n",
    "def train_initial_model(model, data_loader, val_loader, epochs, optimizer, criterion, device):\n",
    "    faccuracies = []\n",
    "    model.train()\n",
    "    for epoch in range(epochs):\n",
    "        total_loss = 0\n",
    "        for batch in data_loader:\n",
    "            batch.to(device)\n",
    "            optimizer.zero_grad()\n",
    "            output = model(batch)\n",
    "            loss = criterion(output, batch.y)\n",
    "            loss.backward()\n",
    "            optimizer.step()\n",
    "            total_loss += loss.item()\n",
    "        val_acc = evaluate_model(model, val_loader)\n",
    "        accuracies.append(val_acc)\n",
    "            \n",
    "        if epoch % 10 == 0:\n",
    "            print(f'Initial Training Epoch {epoch+1}/{epochs}, Loss: {total_loss/len(data_loader)}')\n",
    "    return faccuracies"
   ],
   "metadata": {
    "collapsed": false,
    "ExecuteTime": {
     "end_time": "2024-05-28T01:55:26.546191800Z",
     "start_time": "2024-05-28T01:55:26.120078100Z"
    }
   },
   "id": "b6ef2ce3ad31bca9"
  },
  {
   "cell_type": "markdown",
   "source": [
    "Active learning loop"
   ],
   "metadata": {
    "collapsed": false
   },
   "id": "c06d6f29d8eca10f"
  },
  {
   "cell_type": "code",
   "execution_count": 637,
   "outputs": [],
   "source": [
    "def active_learning_loop(model, dataset, initial_indices, train_indices, pool_indices, val_indices, test_indices, query_strategy, n_query=10, epochs=100):\n",
    "    accuracies = []\n",
    "    initial_loader = create_data_loader(dataset, initial_indices, batch_size=10)   \n",
    "    train_loader = create_data_loader(dataset, train_indices)\n",
    "    val_loader = create_data_loader(dataset, val_indices, shuffle=False)\n",
    "    test_loader = create_data_loader(dataset, test_indices, shuffle=False)\n",
    "    \n",
    "    optimizer = torch.optim.Adam(model.parameters(), lr=0.0002)\n",
    "    criterion = torch.nn.CrossEntropyLoss()\n",
    "    swag=train_initial_model(model, initial_loader, val_loader, 50, optimizer, criterion, device)\n",
    "    accuracies=swag\n",
    "\n",
    "    for epoch in range(epochs):\n",
    "        model.train()\n",
    "        train_loss = 0\n",
    "        num_batches = 0\n",
    "\n",
    "        for batch in train_loader:\n",
    "            batch.to(device)\n",
    "            optimizer.zero_grad()\n",
    "            out = model(batch)\n",
    "            loss = criterion(out, batch.y)\n",
    "            loss.backward()\n",
    "            optimizer.step()\n",
    "            train_loss += loss.item()\n",
    "            num_batches += 1\n",
    "             \n",
    "        train_loss /= num_batches\n",
    "        val_acc = evaluate_model(model, val_loader)\n",
    "        accuracies.append(val_acc)\n",
    "        \n",
    "\n",
    "        if epoch % 10 == 0:\n",
    "            print(f'Epoch: {epoch}, Train Loss: {train_loss:.4f}, Val Accuracy: {val_acc:.4f}')\n",
    "            selected_indices = query_strategy(model, dataset, pool_indices, n_query, T=100, training=True)\n",
    "            print(f'Selected indices for training: {selected_indices}')\n",
    "            train_indices, pool_indices = update_indices(train_indices, pool_indices, selected_indices)\n",
    "            print(f'Updated train indices count: {len(train_indices)}, Pool indices count: {len(pool_indices)}')\n",
    "            train_loader = create_data_loader(dataset, train_indices)  # Recreate the loader with updated indices\n",
    "\n",
    "    test_acc = evaluate_model(model, test_loader)\n",
    "    print(f'Final Test Accuracy: {test_acc:.4f}')\n",
    "    accuracies.append(test_acc)\n",
    "    return accuracies\n"
   ],
   "metadata": {
    "collapsed": false,
    "ExecuteTime": {
     "end_time": "2024-05-28T01:55:26.550191900Z",
     "start_time": "2024-05-28T01:55:26.135571400Z"
    }
   },
   "id": "f649ad162ffaad6b"
  },
  {
   "cell_type": "markdown",
   "source": [
    "Eval"
   ],
   "metadata": {
    "collapsed": false
   },
   "id": "bba1350f7187d6e2"
  },
  {
   "cell_type": "code",
   "execution_count": 638,
   "outputs": [],
   "source": [
    "\n",
    "def evaluate_model(model, loader):\n",
    "    correct = 0\n",
    "    total = 0\n",
    "    for batch in loader:\n",
    "        batch.to(device) # Ensure labels are also moved\n",
    "        out = model(batch)\n",
    "        pred = out.max(dim=1)[1]\n",
    "        correct += pred.eq(batch.y).sum().item()\n",
    "        total += batch.num_graphs\n",
    "        \n",
    "    return correct / total\n",
    "\n",
    "def update_loaders(train_loader, pool_loader, new_data_indices, pool_indices, train_indices):\n",
    "    # Add new data indices to train indices\n",
    "    for idx in new_data_indices:\n",
    "        train_indices.append(pool_indices[idx])\n",
    "\n",
    "    # Remove the selected indices from pool indices\n",
    "    new_pool_indices = [idx for i, idx in enumerate(pool_indices) if i not in new_data_indices]\n",
    "\n",
    "    # Update datasets and loaders\n",
    "    train_loader.dataset.indices = train_indices\n",
    "    pool_loader.dataset.indices = new_pool_indices"
   ],
   "metadata": {
    "collapsed": false,
    "ExecuteTime": {
     "end_time": "2024-05-28T01:55:26.579157600Z",
     "start_time": "2024-05-28T01:55:26.149689300Z"
    }
   },
   "id": "22c29ad0d3fe1375"
  },
  {
   "cell_type": "code",
   "execution_count": 646,
   "outputs": [
    {
     "name": "stdout",
     "output_type": "stream",
     "text": [
      "Initial Training Epoch 1/50, Loss: 0.7017063975334168\n",
      "Initial Training Epoch 11/50, Loss: 0.692665946483612\n",
      "Initial Training Epoch 21/50, Loss: 0.6850491762161255\n",
      "Initial Training Epoch 31/50, Loss: 0.6923791527748108\n",
      "Initial Training Epoch 41/50, Loss: 0.6836902678012848\n",
      "Epoch: 0, Train Loss: 0.6769, Val Accuracy: 0.6040\n",
      "Selected indices for training: [570, 547, 683, 679, 543, 737, 538, 120, 839, 732]\n",
      "Updated train indices count: 313, Pool indices count: 498\n",
      "Epoch: 10, Train Loss: 0.6549, Val Accuracy: 0.5050\n",
      "Selected indices for training: [950, 506, 943, 1091, 103, 736, 439, 960, 13, 972]\n",
      "Updated train indices count: 323, Pool indices count: 488\n",
      "Epoch: 20, Train Loss: 0.6505, Val Accuracy: 0.6436\n",
      "Selected indices for training: [514, 544, 253, 73, 248, 88, 238, 516, 523, 486]\n",
      "Updated train indices count: 333, Pool indices count: 478\n",
      "Epoch: 30, Train Loss: 0.6370, Val Accuracy: 0.6139\n",
      "Selected indices for training: [666, 65, 533, 540, 537, 113, 925, 788, 804, 546]\n",
      "Updated train indices count: 343, Pool indices count: 468\n",
      "Epoch: 40, Train Loss: 0.6212, Val Accuracy: 0.6733\n",
      "Selected indices for training: [610, 790, 258, 154, 611, 1029, 353, 26, 1109, 188]\n",
      "Updated train indices count: 353, Pool indices count: 458\n",
      "Epoch: 50, Train Loss: 0.6015, Val Accuracy: 0.6436\n",
      "Selected indices for training: [905, 282, 753, 1080, 212, 354, 511, 901, 81, 634]\n",
      "Updated train indices count: 363, Pool indices count: 448\n",
      "Epoch: 60, Train Loss: 0.5936, Val Accuracy: 0.6931\n",
      "Selected indices for training: [437, 85, 812, 1042, 347, 275, 754, 1008, 949, 491]\n",
      "Updated train indices count: 373, Pool indices count: 438\n",
      "Epoch: 70, Train Loss: 0.5859, Val Accuracy: 0.7129\n",
      "Selected indices for training: [123, 1014, 645, 781, 201, 676, 5, 1087, 441, 719]\n",
      "Updated train indices count: 383, Pool indices count: 428\n",
      "Epoch: 80, Train Loss: 0.5807, Val Accuracy: 0.7228\n",
      "Selected indices for training: [995, 173, 1023, 1075, 219, 392, 413, 417, 404, 623]\n",
      "Updated train indices count: 393, Pool indices count: 418\n",
      "Epoch: 90, Train Loss: 0.5818, Val Accuracy: 0.7129\n",
      "Selected indices for training: [475, 615, 890, 492, 335, 993, 940, 144, 855, 227]\n",
      "Updated train indices count: 403, Pool indices count: 408\n",
      "Epoch: 100, Train Loss: 0.5741, Val Accuracy: 0.6832\n",
      "Selected indices for training: [48, 1011, 650, 521, 866, 1013, 755, 55, 306, 195]\n",
      "Updated train indices count: 413, Pool indices count: 398\n",
      "Epoch: 110, Train Loss: 0.5751, Val Accuracy: 0.6733\n",
      "Selected indices for training: [798, 34, 1078, 895, 512, 580, 1055, 927, 1111, 78]\n",
      "Updated train indices count: 423, Pool indices count: 388\n",
      "Epoch: 120, Train Loss: 0.5500, Val Accuracy: 0.7327\n",
      "Selected indices for training: [402, 589, 878, 674, 515, 133, 454, 978, 473, 814]\n",
      "Updated train indices count: 433, Pool indices count: 378\n",
      "Epoch: 130, Train Loss: 0.5814, Val Accuracy: 0.7129\n",
      "Selected indices for training: [68, 699, 885, 792, 1056, 95, 644, 488, 1081, 930]\n",
      "Updated train indices count: 443, Pool indices count: 368\n",
      "Epoch: 140, Train Loss: 0.5498, Val Accuracy: 0.7525\n",
      "Selected indices for training: [542, 1003, 333, 151, 607, 108, 388, 922, 718, 603]\n",
      "Updated train indices count: 453, Pool indices count: 358\n",
      "Epoch: 150, Train Loss: 0.5491, Val Accuracy: 0.7228\n",
      "Selected indices for training: [281, 209, 177, 859, 1057, 767, 242, 793, 937, 263]\n",
      "Updated train indices count: 463, Pool indices count: 348\n",
      "Epoch: 160, Train Loss: 0.5347, Val Accuracy: 0.7525\n",
      "Selected indices for training: [318, 337, 70, 382, 756, 614, 902, 526, 179, 130]\n",
      "Updated train indices count: 473, Pool indices count: 338\n",
      "Epoch: 170, Train Loss: 0.5440, Val Accuracy: 0.7327\n",
      "Selected indices for training: [685, 687, 1085, 325, 427, 557, 1016, 655, 1104, 136]\n",
      "Updated train indices count: 483, Pool indices count: 328\n",
      "Epoch: 180, Train Loss: 0.5341, Val Accuracy: 0.7030\n",
      "Selected indices for training: [456, 843, 217, 390, 15, 985, 267, 428, 61, 913]\n",
      "Updated train indices count: 493, Pool indices count: 318\n",
      "Epoch: 190, Train Loss: 0.5346, Val Accuracy: 0.7525\n",
      "Selected indices for training: [1034, 838, 664, 881, 909, 824, 750, 593, 180, 160]\n",
      "Updated train indices count: 503, Pool indices count: 308\n",
      "Final Test Accuracy: 0.7129\n"
     ]
    }
   ],
   "source": [
    "dataset, initial_indices, train_indices, val_indices, test_indices, pool_indices, num_classes, num_node_features = load_tu_data()\n",
    "model = GNN(num_node_features, num_classes).to(device)\n",
    "uniform_acc=active_learning_loop(model, dataset, initial_indices,train_indices, pool_indices, val_indices, test_indices, uniform, epochs=epochs)"
   ],
   "metadata": {
    "collapsed": false,
    "ExecuteTime": {
     "end_time": "2024-05-28T02:11:42.620964400Z",
     "start_time": "2024-05-28T02:09:36.184077Z"
    }
   },
   "id": "a388e9b143003e21"
  },
  {
   "cell_type": "markdown",
   "source": [
    "Max Entropy Acquisition function"
   ],
   "metadata": {
    "collapsed": false
   },
   "id": "9a154e65406c8c63"
  },
  {
   "cell_type": "code",
   "execution_count": 640,
   "outputs": [],
   "source": [
    "def predictions_from_pool(model, dataset, pool_indices, T=100, training=True):\n",
    "    \"\"\"\n",
    "    Run MC dropout prediction on model using graphs from the pool and return the output.\n",
    "    \"\"\"\n",
    "    # Randomly select indices from the pool\n",
    "    random_subset = np.random.choice(pool_indices, size=min(2000, len(pool_indices)), replace=False)\n",
    "    \n",
    "    # Fetch the actual graph data from the dataset\n",
    "    subset_loader = DataLoader(dataset[random_subset.tolist()], batch_size=len(random_subset), shuffle=False)\n",
    "    batch = next(iter(subset_loader))  # Load the batch\n",
    "    \n",
    "    # Perform prediction\n",
    "    outputs = []\n",
    "    with torch.no_grad():\n",
    "        for _ in range(T):\n",
    "            batch.to(device)\n",
    "            model.train(training)  # Enable/disable dropout\n",
    "            output = torch.softmax(model(batch), dim=-1)\n",
    "            outputs.append(output.cpu().numpy())\n",
    "    outputs = np.stack(outputs)\n",
    "    print(\"outputs shape: \",outputs.shape)\n",
    "    \n",
    "    return outputs, random_subset\n",
    "\n",
    "def shannon_entropy_function(model, dataset, pool_indices, T=100, E_H=False, training=True):\n",
    "    \"\"\"\n",
    "    Compute the Shannon entropy and optionally E_H if needed for BALD.\n",
    "    \"\"\"\n",
    "    outputs, random_subset = predictions_from_pool(model, dataset, pool_indices, T, training)\n",
    "    pc = outputs.mean(axis=0)\n",
    "    H = (-pc * np.log(pc + 1e-10)).sum(axis=-1)  # Prevent log(0)\n",
    "\n",
    "    if E_H:\n",
    "        E = -np.mean(np.sum(outputs * np.log(outputs + 1e-10), axis=-1), axis=0)\n",
    "        return H, E, random_subset\n",
    "    return H, random_subset\n",
    "\n",
    "def max_entropy(model, dataset, pool_indices, n_query=10, T=100, training=True):\n",
    "    \"\"\"\n",
    "    Choose pool points that maximize the predictive entropy.\n",
    "    \"\"\"\n",
    "    acquisition, random_subset = shannon_entropy_function(model, dataset, pool_indices, T, training=training)\n",
    "    idx = (-acquisition).argsort()[:n_query]\n",
    "    query_idx = random_subset[idx]\n",
    "    return query_idx\n"
   ],
   "metadata": {
    "collapsed": false,
    "ExecuteTime": {
     "end_time": "2024-05-28T01:58:48.463453700Z",
     "start_time": "2024-05-28T01:58:48.454808800Z"
    }
   },
   "id": "bec59d22cfd25cbd"
  },
  {
   "cell_type": "markdown",
   "source": [
    "Training with Max Entropy"
   ],
   "metadata": {
    "collapsed": false
   },
   "id": "644a17254074a03e"
  },
  {
   "cell_type": "code",
   "execution_count": 641,
   "outputs": [
    {
     "name": "stdout",
     "output_type": "stream",
     "text": [
      "Initial Training Epoch 1/50, Loss: 0.6988263905048371\n",
      "Initial Training Epoch 11/50, Loss: 0.6962935209274292\n",
      "Initial Training Epoch 21/50, Loss: 0.6923865914344788\n",
      "Initial Training Epoch 31/50, Loss: 0.6908741176128388\n",
      "Initial Training Epoch 41/50, Loss: 0.6923012554645538\n",
      "Epoch: 0, Train Loss: 0.6582, Val Accuracy: 0.6535\n",
      "outputs shape:  (100, 508, 2)\n",
      "Selected indices for training: [ 763 1112  770  930 1044  354  916  471  831  614]\n",
      "Updated train indices count: 313, Pool indices count: 498\n",
      "Epoch: 10, Train Loss: 0.6499, Val Accuracy: 0.6535\n",
      "outputs shape:  (100, 498, 2)\n",
      "Selected indices for training: [ 973  454  305  753  672   75 1006 1025  497  547]\n",
      "Updated train indices count: 323, Pool indices count: 488\n",
      "Epoch: 20, Train Loss: 0.6337, Val Accuracy: 0.6535\n",
      "outputs shape:  (100, 488, 2)\n",
      "Selected indices for training: [1002 1045  745  498  919 1110  450  727  922  961]\n",
      "Updated train indices count: 333, Pool indices count: 478\n",
      "Epoch: 30, Train Loss: 0.6457, Val Accuracy: 0.7426\n",
      "outputs shape:  (100, 478, 2)\n",
      "Selected indices for training: [ 276  346   43  393  343  361 1091  652  982   59]\n",
      "Updated train indices count: 343, Pool indices count: 468\n",
      "Epoch: 40, Train Loss: 0.6152, Val Accuracy: 0.6733\n",
      "outputs shape:  (100, 468, 2)\n",
      "Selected indices for training: [ 683  162   69  944 1102 1070  913  737  764  667]\n",
      "Updated train indices count: 353, Pool indices count: 458\n",
      "Epoch: 50, Train Loss: 0.6026, Val Accuracy: 0.6634\n",
      "outputs shape:  (100, 458, 2)\n",
      "Selected indices for training: [ 744 1095  508  811  870  467  275  985  997  972]\n",
      "Updated train indices count: 363, Pool indices count: 448\n",
      "Epoch: 60, Train Loss: 0.6043, Val Accuracy: 0.6733\n",
      "outputs shape:  (100, 448, 2)\n",
      "Selected indices for training: [ 725  719  236  951  910  512 1058  557  981  931]\n",
      "Updated train indices count: 373, Pool indices count: 438\n",
      "Epoch: 70, Train Loss: 0.6016, Val Accuracy: 0.6832\n",
      "outputs shape:  (100, 438, 2)\n",
      "Selected indices for training: [ 857  448  728  968  783  668  809  555 1103 1066]\n",
      "Updated train indices count: 383, Pool indices count: 428\n",
      "Epoch: 80, Train Loss: 0.5894, Val Accuracy: 0.7030\n",
      "outputs shape:  (100, 428, 2)\n",
      "Selected indices for training: [992 460 943 885 832 793 823 499 173 336]\n",
      "Updated train indices count: 393, Pool indices count: 418\n",
      "Epoch: 90, Train Loss: 0.5916, Val Accuracy: 0.6931\n",
      "outputs shape:  (100, 418, 2)\n",
      "Selected indices for training: [ 650  665  303  170  689  815  561 1009  292  212]\n",
      "Updated train indices count: 403, Pool indices count: 408\n",
      "Epoch: 100, Train Loss: 0.6026, Val Accuracy: 0.7129\n",
      "outputs shape:  (100, 408, 2)\n",
      "Selected indices for training: [ 420  523 1097  876  849  490  615  741  802  820]\n",
      "Updated train indices count: 413, Pool indices count: 398\n",
      "Epoch: 110, Train Loss: 0.5819, Val Accuracy: 0.7030\n",
      "outputs shape:  (100, 398, 2)\n",
      "Selected indices for training: [ 734  701  933 1026  421 1056 1075   76  563  782]\n",
      "Updated train indices count: 423, Pool indices count: 388\n",
      "Epoch: 120, Train Loss: 0.5929, Val Accuracy: 0.7030\n",
      "outputs shape:  (100, 388, 2)\n",
      "Selected indices for training: [ 847 1069  470  906  846  541  718  814  937 1076]\n",
      "Updated train indices count: 433, Pool indices count: 378\n",
      "Epoch: 130, Train Loss: 0.5847, Val Accuracy: 0.7030\n",
      "outputs shape:  (100, 378, 2)\n",
      "Selected indices for training: [1029  787  758  585  914  445  671 1088    8  255]\n",
      "Updated train indices count: 443, Pool indices count: 368\n",
      "Epoch: 140, Train Loss: 0.5864, Val Accuracy: 0.7030\n",
      "outputs shape:  (100, 368, 2)\n",
      "Selected indices for training: [757 774 854 687 704 396 634 324 872 285]\n",
      "Updated train indices count: 453, Pool indices count: 358\n",
      "Epoch: 150, Train Loss: 0.5775, Val Accuracy: 0.7030\n",
      "outputs shape:  (100, 358, 2)\n",
      "Selected indices for training: [ 731 1005  213 1032 1063  817  853  889  791  790]\n",
      "Updated train indices count: 463, Pool indices count: 348\n",
      "Epoch: 160, Train Loss: 0.5930, Val Accuracy: 0.6733\n",
      "outputs shape:  (100, 348, 2)\n",
      "Selected indices for training: [ 370  415  622  991 1087  531  842  326  681  696]\n",
      "Updated train indices count: 473, Pool indices count: 338\n",
      "Epoch: 170, Train Loss: 0.5984, Val Accuracy: 0.7030\n",
      "outputs shape:  (100, 338, 2)\n",
      "Selected indices for training: [ 673  560  141 1021  181   30  582  901   94  377]\n",
      "Updated train indices count: 483, Pool indices count: 328\n",
      "Epoch: 180, Train Loss: 0.5851, Val Accuracy: 0.7129\n",
      "outputs shape:  (100, 328, 2)\n",
      "Selected indices for training: [478 881 979 509 924 367 940 890 733 631]\n",
      "Updated train indices count: 493, Pool indices count: 318\n",
      "Epoch: 190, Train Loss: 0.5822, Val Accuracy: 0.7030\n",
      "outputs shape:  (100, 318, 2)\n",
      "Selected indices for training: [ 768  810  569  150  886  939  117  760 1096  664]\n",
      "Updated train indices count: 503, Pool indices count: 308\n",
      "Final Test Accuracy: 0.7525\n"
     ]
    }
   ],
   "source": [
    "dataset, initial_indices, train_indices, val_indices, test_indices, pool_indices, num_classes, num_node_features = load_tu_data()\n",
    "model = GNN(num_node_features, num_classes).to(device)\n",
    "max_entropy_acc=active_learning_loop(model, dataset, initial_indices, train_indices, pool_indices, val_indices, test_indices, max_entropy, epochs=epochs)"
   ],
   "metadata": {
    "collapsed": false,
    "ExecuteTime": {
     "end_time": "2024-05-28T02:02:53.764589400Z",
     "start_time": "2024-05-28T01:58:48.463563Z"
    }
   },
   "id": "ec61af1d1265047f"
  },
  {
   "cell_type": "markdown",
   "source": [
    "BALD Acquisition function"
   ],
   "metadata": {
    "collapsed": false
   },
   "id": "71fe5c0f6db24d4b"
  },
  {
   "cell_type": "code",
   "execution_count": 642,
   "outputs": [],
   "source": [
    "def bald(model, dataset, pool_indices, n_query=10, T=100, training=True):\n",
    "    \"\"\"Choose pool points that are expected to maximise the information\n",
    "    gained about the model parameters, i.e. maximise the mutal information\n",
    "    between predictions and model posterior. Given\n",
    "    I[y,w|x,D_train] = H[y|x,D_train] - E_{p(w|D_train)}[H[y|x,w]]\n",
    "    with w the model parameters (H[y|x,w] is the entropy of y given w).\n",
    "    Points that maximise this acquisition function are points on which the\n",
    "    model is uncertain on average but there exist model parameters that produce\n",
    "    disagreeing predictions with high certainty. This is equivalent to points\n",
    "    with high variance in th einput to the softmax layer\n",
    "\n",
    "    Attributes:\n",
    "        model: Model that is ready to measure uncertainty after training,\n",
    "        X_pool: Pool set to select uncertainty,\n",
    "        n_query: Number of points that maximise bald a(x) from pool set,\n",
    "        T: Number of MC dropout iterations aka training iterations,\n",
    "        training: If False, run test without MC dropout. (default=True)\n",
    "    \"\"\"\n",
    "    H, E_H, random_subset = shannon_entropy_function(\n",
    "        model, dataset, pool_indices, T, E_H=True, training=training\n",
    "    )\n",
    "    acquisition = H - E_H\n",
    "    \n",
    "    idx = (-acquisition).argsort()[:n_query]\n",
    "    print(\"Acquisition scores for selected indices:\", acquisition[idx])\n",
    "    query_idx = random_subset[idx]\n",
    "    print(\"query idx: \", query_idx,\"acq: \", idx)\n",
    "    return query_idx\n"
   ],
   "metadata": {
    "collapsed": false,
    "ExecuteTime": {
     "end_time": "2024-05-28T02:02:53.767603800Z",
     "start_time": "2024-05-28T02:02:53.755585500Z"
    }
   },
   "id": "b68ee0ff709dad61"
  },
  {
   "cell_type": "markdown",
   "source": [
    "Test with BALD"
   ],
   "metadata": {
    "collapsed": false
   },
   "id": "901151e074e29790"
  },
  {
   "cell_type": "code",
   "execution_count": 643,
   "outputs": [
    {
     "name": "stdout",
     "output_type": "stream",
     "text": [
      "Initial Training Epoch 1/50, Loss: 0.6958149015903473\n",
      "Initial Training Epoch 11/50, Loss: 0.6901435434818268\n",
      "Initial Training Epoch 21/50, Loss: 0.6908476173877716\n",
      "Initial Training Epoch 31/50, Loss: 0.6901605904102326\n",
      "Initial Training Epoch 41/50, Loss: 0.6963065803050995\n",
      "Epoch: 0, Train Loss: 0.6901, Val Accuracy: 0.6535\n",
      "outputs shape:  (100, 508, 2)\n",
      "Acquisition scores for selected indices: [0.02806509 0.01182705 0.00905699 0.00862896 0.00688171 0.00628448\n",
      " 0.00584269 0.00558788 0.00527865 0.00496566]\n",
      "query idx:  [1046  975  275  964  906  959  692  542 1055  913] acq:  [468 186  35 501  53 421 152 361  12 375]\n",
      "Selected indices for training: [1046  975  275  964  906  959  692  542 1055  913]\n",
      "Updated train indices count: 313, Pool indices count: 498\n",
      "Epoch: 10, Train Loss: 0.6721, Val Accuracy: 0.6535\n",
      "outputs shape:  (100, 498, 2)\n",
      "Acquisition scores for selected indices: [0.00443882 0.00440443 0.00425011 0.00317162 0.00302702 0.00253487\n",
      " 0.00238699 0.00234586 0.00230283 0.00191414]\n",
      "query idx:  [ 729  700 1058  910  856 1042  942  890  865  995] acq:  [ 58 325  60 483 213 185 437 492  95  90]\n",
      "Selected indices for training: [ 729  700 1058  910  856 1042  942  890  865  995]\n",
      "Updated train indices count: 323, Pool indices count: 488\n",
      "Epoch: 20, Train Loss: 0.6543, Val Accuracy: 0.6931\n",
      "outputs shape:  (100, 488, 2)\n",
      "Acquisition scores for selected indices: [0.00793356 0.00703573 0.00680304 0.00644153 0.00633615 0.00625396\n",
      " 0.0060423  0.00596541 0.00584549 0.00550681]\n",
      "query idx:  [ 997  996 1041 1064 1105  981 1007  912 1050   31] acq:  [195  55 127 270 279 253 474 112  52 401]\n",
      "Selected indices for training: [ 997  996 1041 1064 1105  981 1007  912 1050   31]\n",
      "Updated train indices count: 333, Pool indices count: 478\n",
      "Epoch: 30, Train Loss: 0.6306, Val Accuracy: 0.6040\n",
      "outputs shape:  (100, 478, 2)\n",
      "Acquisition scores for selected indices: [0.00969809 0.00814515 0.00795007 0.00778669 0.00745064 0.00693065\n",
      " 0.00659859 0.00629079 0.00606334 0.00593507]\n",
      "query idx:  [ 962 1067 1088  830  408  797  649    2  999  442] acq:  [ 59 399 307 153 130 288 446 327 314 337]\n",
      "Selected indices for training: [ 962 1067 1088  830  408  797  649    2  999  442]\n",
      "Updated train indices count: 343, Pool indices count: 468\n",
      "Epoch: 40, Train Loss: 0.6286, Val Accuracy: 0.6832\n",
      "outputs shape:  (100, 468, 2)\n",
      "Acquisition scores for selected indices: [0.00884551 0.00757116 0.00735503 0.00702739 0.0069744  0.0069533\n",
      " 0.00651205 0.00630474 0.00606966 0.00592881]\n",
      "query idx:  [938 421 853 196 721   8 204 521  43 425] acq:  [ 54 117 180 392  89 145 309  98 338 324]\n",
      "Selected indices for training: [938 421 853 196 721   8 204 521  43 425]\n",
      "Updated train indices count: 353, Pool indices count: 458\n",
      "Epoch: 50, Train Loss: 0.6267, Val Accuracy: 0.6931\n",
      "outputs shape:  (100, 458, 2)\n",
      "Acquisition scores for selected indices: [0.00618029 0.00561452 0.0054245  0.00538427 0.0051018  0.00488871\n",
      " 0.00462085 0.00429392 0.00421035 0.00418818]\n",
      "query idx:  [ 677 1063  173  658  392  341  983  782  561  650] acq:  [315 217 370 103 204  13 212  65 100 181]\n",
      "Selected indices for training: [ 677 1063  173  658  392  341  983  782  561  650]\n",
      "Updated train indices count: 363, Pool indices count: 448\n",
      "Epoch: 60, Train Loss: 0.6259, Val Accuracy: 0.7129\n",
      "outputs shape:  (100, 448, 2)\n",
      "Acquisition scores for selected indices: [0.01205748 0.01155734 0.00630319 0.00590026 0.00582874 0.00581402\n",
      " 0.00556052 0.00542879 0.00506073 0.00505668]\n",
      "query idx:  [ 972  450  606  893 1106  751  717  331  396  798] acq:  [175   2 252 406 445  97 289 343  48  60]\n",
      "Selected indices for training: [ 972  450  606  893 1106  751  717  331  396  798]\n",
      "Updated train indices count: 373, Pool indices count: 438\n",
      "Epoch: 70, Train Loss: 0.6262, Val Accuracy: 0.7030\n",
      "outputs shape:  (100, 438, 2)\n",
      "Acquisition scores for selected indices: [0.00738519 0.00514072 0.00492394 0.00482154 0.00465733 0.00414991\n",
      " 0.00409961 0.00405979 0.004013   0.0039807 ]\n",
      "query idx:  [1000  667  732  815 1033  861  922  820  846  365] acq:  [300 329 193 288  52  37 180 279 105 251]\n",
      "Selected indices for training: [1000  667  732  815 1033  861  922  820  846  365]\n",
      "Updated train indices count: 383, Pool indices count: 428\n",
      "Epoch: 80, Train Loss: 0.6273, Val Accuracy: 0.6733\n",
      "outputs shape:  (100, 428, 2)\n",
      "Acquisition scores for selected indices: [0.01059175 0.00929785 0.00817239 0.00815809 0.00786352 0.00779724\n",
      " 0.00761712 0.00755316 0.00749892 0.00691468]\n",
      "query idx:  [ 868 1056  928  664  944   85  896  826 1030  636] acq:  [ 23 426 190  88 376  81  82 248 297 395]\n",
      "Selected indices for training: [ 868 1056  928  664  944   85  896  826 1030  636]\n",
      "Updated train indices count: 393, Pool indices count: 418\n",
      "Epoch: 90, Train Loss: 0.6256, Val Accuracy: 0.7327\n",
      "outputs shape:  (100, 418, 2)\n",
      "Acquisition scores for selected indices: [0.00817126 0.00814742 0.00766766 0.00710499 0.00702012 0.00680286\n",
      " 0.00664949 0.00663918 0.00650382 0.00625026]\n",
      "query idx:  [1061  737 1071 1103 1073  670  774  941  613  970] acq:  [174 206 320 224 259   0  99 119 164 383]\n",
      "Selected indices for training: [1061  737 1071 1103 1073  670  774  941  613  970]\n",
      "Updated train indices count: 403, Pool indices count: 408\n",
      "Epoch: 100, Train Loss: 0.6319, Val Accuracy: 0.7327\n",
      "outputs shape:  (100, 408, 2)\n",
      "Acquisition scores for selected indices: [0.00493556 0.00469887 0.00455141 0.00425839 0.00410211 0.00407755\n",
      " 0.0036068  0.00359088 0.00353414 0.00345236]\n",
      "query idx:  [ 860  744  547 1021    9  367  900  315  704  730] acq:  [341 223 327 179 105 228 204  13 321 145]\n",
      "Selected indices for training: [ 860  744  547 1021    9  367  900  315  704  730]\n",
      "Updated train indices count: 413, Pool indices count: 398\n",
      "Epoch: 110, Train Loss: 0.6116, Val Accuracy: 0.7426\n",
      "outputs shape:  (100, 398, 2)\n",
      "Acquisition scores for selected indices: [0.00546116 0.00545001 0.0051704  0.00500304 0.00465578 0.00453967\n",
      " 0.00451303 0.00448102 0.00438297 0.00420976]\n",
      "query idx:  [ 345  849 1009  871  833  792  851  961  350  529] acq:  [ 24 141 275 360 194 221  97 111   2  58]\n",
      "Selected indices for training: [ 345  849 1009  871  833  792  851  961  350  529]\n",
      "Updated train indices count: 423, Pool indices count: 388\n",
      "Epoch: 120, Train Loss: 0.6131, Val Accuracy: 0.7228\n",
      "outputs shape:  (100, 388, 2)\n",
      "Acquisition scores for selected indices: [0.00607997 0.00549281 0.00535703 0.00523168 0.00511611 0.0049876\n",
      " 0.00498545 0.00493044 0.00472409 0.00465506]\n",
      "query idx:  [ 899 1097 1099  449 1094  455 1043  930  965  775] acq:  [ 19 325 342  97 384 182  20 369 345 257]\n",
      "Selected indices for training: [ 899 1097 1099  449 1094  455 1043  930  965  775]\n",
      "Updated train indices count: 433, Pool indices count: 378\n",
      "Epoch: 130, Train Loss: 0.6079, Val Accuracy: 0.7525\n",
      "outputs shape:  (100, 378, 2)\n",
      "Acquisition scores for selected indices: [0.00557441 0.00551379 0.00532687 0.00467819 0.00466406 0.00440431\n",
      " 0.00431806 0.0042699  0.00423473 0.00416368]\n",
      "query idx:  [ 705  977  707  525  661   61  690  128  715 1059] acq:  [167 137 190 210 149   7 219 362  23 141]\n",
      "Selected indices for training: [ 705  977  707  525  661   61  690  128  715 1059]\n",
      "Updated train indices count: 443, Pool indices count: 368\n",
      "Epoch: 140, Train Loss: 0.5921, Val Accuracy: 0.7426\n",
      "outputs shape:  (100, 368, 2)\n",
      "Acquisition scores for selected indices: [0.00883108 0.00801098 0.00701982 0.00668186 0.00651693 0.00644881\n",
      " 0.00641733 0.00632137 0.00600284 0.00592679]\n",
      "query idx:  [1079  687 1082  858  992  439  322  806  651  984] acq:  [353  83 317  97  79 181 135 258 155  20]\n",
      "Selected indices for training: [1079  687 1082  858  992  439  322  806  651  984]\n",
      "Updated train indices count: 453, Pool indices count: 358\n",
      "Epoch: 150, Train Loss: 0.6119, Val Accuracy: 0.7228\n",
      "outputs shape:  (100, 358, 2)\n",
      "Acquisition scores for selected indices: [0.0074091  0.00725198 0.00665462 0.00650138 0.00582033 0.00574082\n",
      " 0.00554122 0.00538135 0.00529796 0.00528377]\n",
      "query idx:  [ 812  696   10 1107  932  113  769  372   54  931] acq:  [105 341 192 145 101  82 194 227 130 306]\n",
      "Selected indices for training: [ 812  696   10 1107  932  113  769  372   54  931]\n",
      "Updated train indices count: 463, Pool indices count: 348\n",
      "Epoch: 160, Train Loss: 0.6089, Val Accuracy: 0.7525\n",
      "outputs shape:  (100, 348, 2)\n",
      "Acquisition scores for selected indices: [0.00678462 0.00651973 0.0062446  0.00619507 0.00618398 0.00615013\n",
      " 0.00579327 0.0057112  0.00568807 0.00567329]\n",
      "query idx:  [ 783 1062  228  693  773  770  550  573  989  627] acq:  [221 182 307 155  26 215 218 125 193 317]\n",
      "Selected indices for training: [ 783 1062  228  693  773  770  550  573  989  627]\n",
      "Updated train indices count: 473, Pool indices count: 338\n",
      "Epoch: 170, Train Loss: 0.6168, Val Accuracy: 0.7228\n",
      "outputs shape:  (100, 338, 2)\n",
      "Acquisition scores for selected indices: [0.01139235 0.0072341  0.00671029 0.00629628 0.00626105 0.00615871\n",
      " 0.00605851 0.00603801 0.00571483 0.00549603]\n",
      "query idx:  [ 918  443  565 1068   88  414  506  536  590  368] acq:  [ 48 134 230  11  51   9 170 283 138   1]\n",
      "Selected indices for training: [ 918  443  565 1068   88  414  506  536  590  368]\n",
      "Updated train indices count: 483, Pool indices count: 328\n",
      "Epoch: 180, Train Loss: 0.6059, Val Accuracy: 0.7228\n",
      "outputs shape:  (100, 328, 2)\n",
      "Acquisition scores for selected indices: [0.00976539 0.00961196 0.00786865 0.00708914 0.00664687 0.00658113\n",
      " 0.00615925 0.00613254 0.00601691 0.00597024]\n",
      "query idx:  [625   3 461 373 848 447 464 514 903 808] acq:  [277 169 180 312 278 327 236  61 124 227]\n",
      "Selected indices for training: [625   3 461 373 848 447 464 514 903 808]\n",
      "Updated train indices count: 493, Pool indices count: 318\n",
      "Epoch: 190, Train Loss: 0.6194, Val Accuracy: 0.7426\n",
      "outputs shape:  (100, 318, 2)\n",
      "Acquisition scores for selected indices: [0.00574964 0.00562632 0.00548136 0.00477302 0.00471586 0.00435996\n",
      " 0.00431412 0.00412893 0.00385457 0.00385046]\n",
      "query idx:  [ 796 1095  335  329  916  873   47   37  560   58] acq:  [107 274 231 239  61 301 121 233 263 222]\n",
      "Selected indices for training: [ 796 1095  335  329  916  873   47   37  560   58]\n",
      "Updated train indices count: 503, Pool indices count: 308\n",
      "Final Test Accuracy: 0.7129\n"
     ]
    }
   ],
   "source": [
    "dataset, initial_indices, train_indices, val_indices, test_indices, pool_indices, num_classes, num_node_features = load_tu_data()\n",
    "model = GNN(num_node_features, num_classes).to(device)\n",
    "BALD_acc=active_learning_loop(model, dataset, initial_indices,train_indices, pool_indices, val_indices, test_indices, bald, epochs=epochs)"
   ],
   "metadata": {
    "collapsed": false,
    "ExecuteTime": {
     "end_time": "2024-05-28T02:07:05.827432700Z",
     "start_time": "2024-05-28T02:02:53.762607300Z"
    }
   },
   "id": "7fcb904ef5173045"
  },
  {
   "cell_type": "markdown",
   "source": [
    "Plotting"
   ],
   "metadata": {
    "collapsed": false
   },
   "id": "ff6e3f0da76f272a"
  },
  {
   "cell_type": "code",
   "execution_count": 659,
   "outputs": [
    {
     "name": "stdout",
     "output_type": "stream",
     "text": [
      "41\n",
      "41\n",
      "41\n"
     ]
    },
    {
     "data": {
      "text/plain": "<Figure size 1000x600 with 1 Axes>",
      "image/png": "[encoded data removed]"
     },
     "metadata": {},
     "output_type": "display_data"
    }
   ],
   "source": [
    "import matplotlib.pyplot as plt\n",
    "\n",
    "# Assuming you have different strategies you are comparing\n",
    "plt.style.use('default')\n",
    "strategy_data = {\"Random\": uniform_acc[0:201:5], \"Max Entropy\": max_entropy_acc[0:201:5], \"BALD\": BALD_acc[0:201:5]}\n",
    "plt.figure(figsize=(10, 6), facecolor='white')  # Set the background color of the plot figure to white\n",
    "ax = plt.subplot(111)\n",
    "ax.set_facecolor('white')\n",
    "for strategy, accuracies in strategy_data.items():\n",
    "    print(len(accuracies))\n",
    "    plt.plot(range(len(accuracies)), accuracies, label=strategy)\n",
    "\n",
    "plt.title('Comparison of Active Learning Strategies Over Epochs')\n",
    "plt.xlabel('5 Epoch')\n",
    "plt.ylim(0.45, 0.8)\n",
    "plt.ylabel('Validation Accuracy')\n",
    "plt.legend()\n",
    "plt.grid(True)\n",
    "plt.show()"
   ],
   "metadata": {
    "collapsed": false,
    "ExecuteTime": {
     "end_time": "2024-05-28T02:20:09.074828200Z",
     "start_time": "2024-05-28T02:20:08.849922600Z"
    }
   },
   "id": "429c5903a4d7d7ae"
  },
  {
   "cell_type": "code",
   "execution_count": 644,
   "outputs": [],
   "source": [],
   "metadata": {
    "collapsed": false,
    "ExecuteTime": {
     "end_time": "2024-05-28T02:07:06.058745600Z",
     "start_time": "2024-05-28T02:07:06.052619Z"
    }
   },
   "id": "d22884062127f028"
  }
 ],
 "metadata": {
  "kernelspec": {
   "display_name": "Python 3",
   "language": "python",
   "name": "python3"
  },
  "language_info": {
   "codemirror_mode": {
    "name": "ipython",
    "version": 2
   },
   "file_extension": ".py",
   "mimetype": "text/x-python",
   "name": "python",
   "nbconvert_exporter": "python",
   "pygments_lexer": "ipython2",
   "version": "2.7.6"
  }
 },
 "nbformat": 4,
 "nbformat_minor": 5
}
